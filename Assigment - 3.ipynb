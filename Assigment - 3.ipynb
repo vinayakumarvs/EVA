{
  "nbformat": 4,
  "nbformat_minor": 0,
  "metadata": {
    "colab": {
      "name": "1st DNN.ipynb",
      "version": "0.3.2",
      "provenance": [],
      "collapsed_sections": [],
      "include_colab_link": true
    },
    "kernelspec": {
      "name": "python3",
      "display_name": "Python 3"
    },
    "accelerator": "GPU"
  },
  "cells": [
    {
      "cell_type": "markdown",
      "metadata": {
        "id": "view-in-github",
        "colab_type": "text"
      },
      "source": [
        "<a href=\"https://colab.research.google.com/github/vinayakumarvs/EVA/blob/Project-1/Assigment%20-%203.ipynb\" target=\"_parent\"><img src=\"https://colab.research.google.com/assets/colab-badge.svg\" alt=\"Open In Colab\"/></a>"
      ]
    },
    {
      "cell_type": "markdown",
      "metadata": {
        "id": "aNyZv-Ec52ot",
        "colab_type": "text"
      },
      "source": [
        "# **Import Libraries and modules**"
      ]
    },
    {
      "cell_type": "code",
      "metadata": {
        "id": "3m3w1Cw49Zkt",
        "colab_type": "code",
        "colab": {
          "base_uri": "https://localhost:8080/",
          "height": 34
        },
        "outputId": "b0d03227-4406-4709-d01b-d95828c89dfa"
      },
      "source": [
        "# https://keras.io/\n",
        "!pip install -q keras #Update Keras Package Directly in Python Notebook\n",
        "import keras #Import Keras Package to use further for Deep Learning"
      ],
      "execution_count": 2,
      "outputs": [
        {
          "output_type": "stream",
          "text": [
            "Using TensorFlow backend.\n"
          ],
          "name": "stderr"
        }
      ]
    },
    {
      "cell_type": "code",
      "metadata": {
        "id": "Eso6UHE080D4",
        "colab_type": "code",
        "colab": {}
      },
      "source": [
        "import numpy as np #Giving np as an alias to numpy to use the shortened name further\n",
        "\n",
        "from keras.models import Sequential #Import Sequential from keras to create a model layer by layer. The Sequential is inherited from Keras models\n",
        "from keras.layers import Dense, Dropout, Activation, Flatten, Add #Import the Dense, Dropout Activation Flatten and Add from Keras layers to use in Hyper Parameters\n",
        "from keras.layers import Convolution2D, MaxPooling2D #Import Convolution2D inherited from Keras layers. Usefull to filter the layers of 2D Images. MaxPooling will help to reduce the parameters\n",
        "from keras.utils import np_utils #Import np_utils inherited from Keras utils. Helps to conver array to a binary one hot vector\n",
        "\n",
        "from keras.datasets import mnist #Import the mnist Dataset from Keras Database. mnist is a handwritten digit database"
      ],
      "execution_count": 0,
      "outputs": []
    },
    {
      "cell_type": "markdown",
      "metadata": {
        "id": "zByEi95J86RD",
        "colab_type": "text"
      },
      "source": [
        "### Load pre-shuffled MNIST data into train and test sets"
      ]
    },
    {
      "cell_type": "code",
      "metadata": {
        "id": "7eRM0QWN83PV",
        "colab_type": "code",
        "colab": {}
      },
      "source": [
        "(X_train, y_train), (X_test, y_test) = mnist.load_data() #Download mnist dataset and Assign Input, Output Variables for Train and Test datasets"
      ],
      "execution_count": 0,
      "outputs": []
    },
    {
      "cell_type": "code",
      "metadata": {
        "id": "4a4Be72j8-ZC",
        "colab_type": "code",
        "outputId": "6c08aecb-cad7-49e6-b8b1-a7a9ccd969be",
        "colab": {
          "base_uri": "https://localhost:8080/",
          "height": 302
        }
      },
      "source": [
        "print (X_train.shape) #Print the shape/Dimension of input variables of the Train dataset\n",
        "from matplotlib import pyplot as plt #Import pyplot inherited from matplotlib and give alias as plt. This will help us to plot and visulaise charts\n",
        "%matplotlib inline #To Display the Image/Chart just below the code here\n",
        "plt.imshow(X_train[0]) #Display the chart"
      ],
      "execution_count": 6,
      "outputs": [
        {
          "output_type": "stream",
          "text": [
            "(60000, 28, 28)\n"
          ],
          "name": "stdout"
        },
        {
          "output_type": "execute_result",
          "data": {
            "text/plain": [
              "<matplotlib.image.AxesImage at 0x7f6e60c511d0>"
            ]
          },
          "metadata": {
            "tags": []
          },
          "execution_count": 6
        },
        {
          "output_type": "display_data",
          "data": {
            "image/png": "[encoded data removed]",
            "text/plain": [
              "<Figure size 432x288 with 1 Axes>"
            ]
          },
          "metadata": {
            "tags": []
          }
        }
      ]
    },
    {
      "cell_type": "code",
      "metadata": {
        "id": "dkmprriw9AnZ",
        "colab_type": "code",
        "colab": {}
      },
      "source": [
        "X_train = X_train.reshape(X_train.shape[0], 28, 28,1) #Shape of train dataframe with 1st Dimension(Depth) and 28*28 Matrix with 1 feature\n",
        "X_test = X_test.reshape(X_test.shape[0], 28, 28,1) #Shape of test dataframe with 1st Dimension(Depth) and 28*28 Matrix with 1 feature"
      ],
      "execution_count": 0,
      "outputs": []
    },
    {
      "cell_type": "code",
      "metadata": {
        "id": "X2m4YS4E9CRh",
        "colab_type": "code",
        "colab": {}
      },
      "source": [
        "X_train = X_train.astype('float32') #Change the data type to float\n",
        "X_test = X_test.astype('float32') #Change the data type to float\n",
        "X_train /= 255 # Normalise the data values to a range of [0,1]\n",
        "X_test /= 255 # Normalise the data values to a range of [0,1]"
      ],
      "execution_count": 0,
      "outputs": []
    },
    {
      "cell_type": "code",
      "metadata": {
        "id": "0Mn0vAYD9DvB",
        "colab_type": "code",
        "outputId": "572d387d-9309-41c3-8945-b4afcce0cba2",
        "colab": {
          "base_uri": "https://localhost:8080/",
          "height": 34
        }
      },
      "source": [
        "y_train[:10] #First 10 elements of one dimensional y_train array"
      ],
      "execution_count": 9,
      "outputs": [
        {
          "output_type": "execute_result",
          "data": {
            "text/plain": [
              "array([5, 0, 4, 1, 9, 2, 1, 3, 1, 4], dtype=uint8)"
            ]
          },
          "metadata": {
            "tags": []
          },
          "execution_count": 9
        }
      ]
    },
    {
      "cell_type": "code",
      "metadata": {
        "id": "ZG8JiXR39FHC",
        "colab_type": "code",
        "colab": {}
      },
      "source": [
        "# Convert 1-dimensional class arrays to 10-dimensional class matrices\n",
        "Y_train = np_utils.to_categorical(y_train, 10)\n",
        "Y_test = np_utils.to_categorical(y_test, 10)"
      ],
      "execution_count": 0,
      "outputs": []
    },
    {
      "cell_type": "code",
      "metadata": {
        "id": "fYlFRvKS9HMB",
        "colab_type": "code",
        "outputId": "98d78916-7cd0-4434-c183-f87927c57832",
        "colab": {
          "base_uri": "https://localhost:8080/",
          "height": 185
        }
      },
      "source": [
        "Y_train[:10] #First 10 elements of 10 dimensional class array of Y_train\n"
      ],
      "execution_count": 11,
      "outputs": [
        {
          "output_type": "execute_result",
          "data": {
            "text/plain": [
              "array([[0., 0., 0., 0., 0., 1., 0., 0., 0., 0.],\n",
              "       [1., 0., 0., 0., 0., 0., 0., 0., 0., 0.],\n",
              "       [0., 0., 0., 0., 1., 0., 0., 0., 0., 0.],\n",
              "       [0., 1., 0., 0., 0., 0., 0., 0., 0., 0.],\n",
              "       [0., 0., 0., 0., 0., 0., 0., 0., 0., 1.],\n",
              "       [0., 0., 1., 0., 0., 0., 0., 0., 0., 0.],\n",
              "       [0., 1., 0., 0., 0., 0., 0., 0., 0., 0.],\n",
              "       [0., 0., 0., 1., 0., 0., 0., 0., 0., 0.],\n",
              "       [0., 1., 0., 0., 0., 0., 0., 0., 0., 0.],\n",
              "       [0., 0., 0., 0., 1., 0., 0., 0., 0., 0.]], dtype=float32)"
            ]
          },
          "metadata": {
            "tags": []
          },
          "execution_count": 11
        }
      ]
    },
    {
      "cell_type": "code",
      "metadata": {
        "id": "osKqT73Q9JJB",
        "colab_type": "code",
        "outputId": "c96dc361-f0ec-4ad9-e5e6-ee52732fb1a8",
        "colab": {
          "base_uri": "https://localhost:8080/",
          "height": 910
        }
      },
      "source": [
        "from keras.layers import Activation, BatchNormalization, Dropout, MaxPooling2D\n",
        "model = Sequential()\n",
        "\n",
        " \n",
        "model.add(Convolution2D(16, 3,3, activation='relu', input_shape=(28,28,1))) #Layer1 Apply 16 3*3 Filters with Relu Activation \n",
        "model.add(Convolution2D(10, 3,3, activation='relu')) #Layer2 Apply 10 3*3 Filters with Relu Activation\n",
        "model.add(BatchNormalization()) #Applying BatchNormalization \n",
        "model.add(MaxPooling2D(2,2)) #Pooling Layer1 MaxPooling to reduce the parameters\n",
        "model.add(Dropout(.20)) #Using Dropout to drop 20% of the features randomly\n",
        "\n",
        "model.add(Convolution2D(16, 3,3, activation='relu')) #Layer3 Applying 16 3*3 Filters with Relu Activation\n",
        "model.add(Convolution2D(10, 3,3, activation='relu')) #Layer4 Applying 10 3*3 Filters with Relu Activation\n",
        "model.add(BatchNormalization()) #Applying BatchNormalization \n",
        "model.add(MaxPooling2D(2,2)) #Pooling Layer2 MaxPooling to reduce the parameters\n",
        "model.add(Dropout(.30)) #Using Dropout to drop 30% of the features randomly\n",
        "\n",
        "model.add(Convolution2D(10, 3,3, activation='relu')) #Layer5 Applying 10 3*3 Filters with Relu Activation\n",
        "model.add(Convolution2D(10, 1, activation='relu')) #Layer6 Applying 10 1*1 Filter with Relu Activation\n",
        "model.add(Convolution2D(10, 2)) #output Layer 10 2*2 Filters\n",
        "model.add(Flatten()) #Flatten the complete layer\n",
        "model.add(Activation('softmax')) #Activate and apply softmax to identify the probability of the identified channels in train or image\n",
        "model.summary() #Gives you model summary"
      ],
      "execution_count": 12,
      "outputs": [
        {
          "output_type": "stream",
          "text": [
            "WARNING:tensorflow:From /usr/local/lib/python3.6/dist-packages/tensorflow/python/framework/op_def_library.py:263: colocate_with (from tensorflow.python.framework.ops) is deprecated and will be removed in a future version.\n",
            "Instructions for updating:\n",
            "Colocations handled automatically by placer.\n"
          ],
          "name": "stdout"
        },
        {
          "output_type": "stream",
          "text": [
            "/usr/local/lib/python3.6/dist-packages/ipykernel_launcher.py:5: UserWarning: Update your `Conv2D` call to the Keras 2 API: `Conv2D(16, (3, 3), activation=\"relu\", input_shape=(28, 28, 1...)`\n",
            "  \"\"\"\n",
            "/usr/local/lib/python3.6/dist-packages/ipykernel_launcher.py:6: UserWarning: Update your `Conv2D` call to the Keras 2 API: `Conv2D(10, (3, 3), activation=\"relu\")`\n",
            "  \n"
          ],
          "name": "stderr"
        },
        {
          "output_type": "stream",
          "text": [
            "WARNING:tensorflow:From /usr/local/lib/python3.6/dist-packages/keras/backend/tensorflow_backend.py:3445: calling dropout (from tensorflow.python.ops.nn_ops) with keep_prob is deprecated and will be removed in a future version.\n",
            "Instructions for updating:\n",
            "Please use `rate` instead of `keep_prob`. Rate should be set to `rate = 1 - keep_prob`.\n",
            "_________________________________________________________________\n",
            "Layer (type)                 Output Shape              Param #   \n",
            "=================================================================\n",
            "conv2d_1 (Conv2D)            (None, 26, 26, 16)        160       \n",
            "_________________________________________________________________\n",
            "conv2d_2 (Conv2D)            (None, 24, 24, 10)        1450      \n",
            "_________________________________________________________________\n",
            "batch_normalization_1 (Batch (None, 24, 24, 10)        40        \n",
            "_________________________________________________________________\n",
            "max_pooling2d_1 (MaxPooling2 (None, 12, 12, 10)        0         \n",
            "_________________________________________________________________\n",
            "dropout_1 (Dropout)          (None, 12, 12, 10)        0         \n",
            "_________________________________________________________________\n",
            "conv2d_3 (Conv2D)            (None, 10, 10, 16)        1456      \n",
            "_________________________________________________________________\n",
            "conv2d_4 (Conv2D)            (None, 8, 8, 10)          1450      \n",
            "_________________________________________________________________\n",
            "batch_normalization_2 (Batch (None, 8, 8, 10)          40        \n",
            "_________________________________________________________________\n",
            "max_pooling2d_2 (MaxPooling2 (None, 4, 4, 10)          0         \n",
            "_________________________________________________________________\n",
            "dropout_2 (Dropout)          (None, 4, 4, 10)          0         \n",
            "_________________________________________________________________\n",
            "conv2d_5 (Conv2D)            (None, 2, 2, 10)          910       \n",
            "_________________________________________________________________\n",
            "conv2d_6 (Conv2D)            (None, 2, 2, 10)          110       \n",
            "_________________________________________________________________\n",
            "conv2d_7 (Conv2D)            (None, 1, 1, 10)          410       \n",
            "_________________________________________________________________\n",
            "flatten_1 (Flatten)          (None, 10)                0         \n",
            "_________________________________________________________________\n",
            "activation_1 (Activation)    (None, 10)                0         \n",
            "=================================================================\n",
            "Total params: 6,026\n",
            "Trainable params: 5,986\n",
            "Non-trainable params: 40\n",
            "_________________________________________________________________\n"
          ],
          "name": "stdout"
        },
        {
          "output_type": "stream",
          "text": [
            "/usr/local/lib/python3.6/dist-packages/ipykernel_launcher.py:11: UserWarning: Update your `Conv2D` call to the Keras 2 API: `Conv2D(16, (3, 3), activation=\"relu\")`\n",
            "  # This is added back by InteractiveShellApp.init_path()\n",
            "/usr/local/lib/python3.6/dist-packages/ipykernel_launcher.py:12: UserWarning: Update your `Conv2D` call to the Keras 2 API: `Conv2D(10, (3, 3), activation=\"relu\")`\n",
            "  if sys.path[0] == '':\n",
            "/usr/local/lib/python3.6/dist-packages/ipykernel_launcher.py:17: UserWarning: Update your `Conv2D` call to the Keras 2 API: `Conv2D(10, (3, 3), activation=\"relu\")`\n"
          ],
          "name": "stderr"
        }
      ]
    },
    {
      "cell_type": "code",
      "metadata": {
        "id": "Zp6SuGrL9M3h",
        "colab_type": "code",
        "colab": {}
      },
      "source": [
        "model.compile(loss='categorical_crossentropy', #Since we have one hot encoding here. We are using categorical cross entropy to calculate the loss function\n",
        "             optimizer='adam', #Using adam optimiser as we require step wise optimiser in our excercise here\n",
        "             metrics=['accuracy']) # Gives us an accuracy of the model"
      ],
      "execution_count": 0,
      "outputs": []
    },
    {
      "cell_type": "code",
      "metadata": {
        "id": "4xWoKhPY9Of5",
        "colab_type": "code",
        "outputId": "1f3a90e5-cdc6-4a7b-e923-c77049469cfc",
        "colab": {
          "base_uri": "https://localhost:8080/",
          "height": 1075
        }
      },
      "source": [
        "model.fit(X_train, Y_train, batch_size=4500, nb_epoch=30, verbose=1) #Fit model using the first argument as an numpy array for training data. Second argument as numpy array of test data. with batch size of 1028 of 30 iterations with progressive bar per epoch"
      ],
      "execution_count": 84,
      "outputs": [
        {
          "output_type": "stream",
          "text": [
            "/usr/local/lib/python3.6/dist-packages/ipykernel_launcher.py:1: UserWarning: The `nb_epoch` argument in `fit` has been renamed `epochs`.\n",
            "  \"\"\"Entry point for launching an IPython kernel.\n"
          ],
          "name": "stderr"
        },
        {
          "output_type": "stream",
          "text": [
            "Epoch 1/30\n",
            "60000/60000 [==============================] - 4s 62us/step - loss: 0.0211 - acc: 0.9926\n",
            "Epoch 2/30\n",
            "60000/60000 [==============================] - 1s 19us/step - loss: 0.0199 - acc: 0.9934\n",
            "Epoch 3/30\n",
            "60000/60000 [==============================] - 1s 19us/step - loss: 0.0192 - acc: 0.9932\n",
            "Epoch 4/30\n",
            "60000/60000 [==============================] - 1s 19us/step - loss: 0.0204 - acc: 0.9931\n",
            "Epoch 5/30\n",
            "60000/60000 [==============================] - 1s 19us/step - loss: 0.0196 - acc: 0.9935\n",
            "Epoch 6/30\n",
            "60000/60000 [==============================] - 1s 19us/step - loss: 0.0193 - acc: 0.9934\n",
            "Epoch 7/30\n",
            "60000/60000 [==============================] - 1s 19us/step - loss: 0.0206 - acc: 0.9934\n",
            "Epoch 8/30\n",
            "60000/60000 [==============================] - 1s 19us/step - loss: 0.0193 - acc: 0.9933\n",
            "Epoch 9/30\n",
            "60000/60000 [==============================] - 1s 19us/step - loss: 0.0201 - acc: 0.9931\n",
            "Epoch 10/30\n",
            "60000/60000 [==============================] - 1s 20us/step - loss: 0.0196 - acc: 0.9929\n",
            "Epoch 11/30\n",
            "60000/60000 [==============================] - 1s 20us/step - loss: 0.0187 - acc: 0.9937\n",
            "Epoch 12/30\n",
            "60000/60000 [==============================] - 1s 20us/step - loss: 0.0187 - acc: 0.9937\n",
            "Epoch 13/30\n",
            "60000/60000 [==============================] - 1s 20us/step - loss: 0.0203 - acc: 0.9932\n",
            "Epoch 14/30\n",
            "60000/60000 [==============================] - 1s 20us/step - loss: 0.0210 - acc: 0.9929\n",
            "Epoch 15/30\n",
            "60000/60000 [==============================] - 1s 20us/step - loss: 0.0215 - acc: 0.9925\n",
            "Epoch 16/30\n",
            "60000/60000 [==============================] - 1s 20us/step - loss: 0.0192 - acc: 0.9934\n",
            "Epoch 17/30\n",
            "60000/60000 [==============================] - 1s 20us/step - loss: 0.0220 - acc: 0.9926\n",
            "Epoch 18/30\n",
            "60000/60000 [==============================] - 1s 20us/step - loss: 0.0205 - acc: 0.9931\n",
            "Epoch 19/30\n",
            "60000/60000 [==============================] - 1s 20us/step - loss: 0.0187 - acc: 0.9937\n",
            "Epoch 20/30\n",
            "60000/60000 [==============================] - 1s 20us/step - loss: 0.0214 - acc: 0.9926\n",
            "Epoch 21/30\n",
            "60000/60000 [==============================] - 1s 20us/step - loss: 0.0196 - acc: 0.9935\n",
            "Epoch 22/30\n",
            "60000/60000 [==============================] - 1s 20us/step - loss: 0.0186 - acc: 0.9935\n",
            "Epoch 23/30\n",
            "60000/60000 [==============================] - 1s 20us/step - loss: 0.0205 - acc: 0.9932\n",
            "Epoch 24/30\n",
            "60000/60000 [==============================] - 1s 20us/step - loss: 0.0195 - acc: 0.9931\n",
            "Epoch 25/30\n",
            "60000/60000 [==============================] - 1s 20us/step - loss: 0.0212 - acc: 0.9929\n",
            "Epoch 26/30\n",
            "60000/60000 [==============================] - 1s 20us/step - loss: 0.0185 - acc: 0.9937\n",
            "Epoch 27/30\n",
            "60000/60000 [==============================] - 1s 20us/step - loss: 0.0194 - acc: 0.9933\n",
            "Epoch 28/30\n",
            "60000/60000 [==============================] - 1s 20us/step - loss: 0.0193 - acc: 0.9934\n",
            "Epoch 29/30\n",
            "60000/60000 [==============================] - 1s 20us/step - loss: 0.0202 - acc: 0.9930\n",
            "Epoch 30/30\n",
            "60000/60000 [==============================] - 1s 20us/step - loss: 0.0207 - acc: 0.9930\n"
          ],
          "name": "stdout"
        },
        {
          "output_type": "execute_result",
          "data": {
            "text/plain": [
              "<keras.callbacks.History at 0x7f6d1fc95438>"
            ]
          },
          "metadata": {
            "tags": []
          },
          "execution_count": 84
        }
      ]
    },
    {
      "cell_type": "code",
      "metadata": {
        "id": "AtsH-lLk-eLb",
        "colab_type": "code",
        "colab": {}
      },
      "source": [
        "score = model.evaluate(X_test, Y_test, verbose=0) #Evaluate the model on test data"
      ],
      "execution_count": 0,
      "outputs": []
    },
    {
      "cell_type": "code",
      "metadata": {
        "id": "mkX8JMv79q9r",
        "colab_type": "code",
        "outputId": "6fa8d7c0-cc7a-413d-e517-9cd78044fa4a",
        "colab": {
          "base_uri": "https://localhost:8080/",
          "height": 34
        }
      },
      "source": [
        "print(score) #Print the Evaluation score"
      ],
      "execution_count": 86,
      "outputs": [
        {
          "output_type": "stream",
          "text": [
            "[0.022855879636476856, 0.9935]\n"
          ],
          "name": "stdout"
        }
      ]
    },
    {
      "cell_type": "code",
      "metadata": {
        "id": "OCWoJkwE9suh",
        "colab_type": "code",
        "colab": {}
      },
      "source": [
        "y_pred = model.predict(X_test) #Predict on the Test data"
      ],
      "execution_count": 0,
      "outputs": []
    },
    {
      "cell_type": "code",
      "metadata": {
        "id": "Ym7iCFBm9uBs",
        "colab_type": "code",
        "outputId": "3815d2d0-d5bc-4d5f-b35e-ecf4d20c4277",
        "colab": {
          "base_uri": "https://localhost:8080/",
          "height": 336
        }
      },
      "source": [
        "print(y_pred[:9]) #Print Initial 9 Predicted Values\n",
        "print(y_test[:9]) #Print Initial 9 Actual Values"
      ],
      "execution_count": 88,
      "outputs": [
        {
          "output_type": "stream",
          "text": [
            "[[6.4089352e-14 6.6549340e-08 1.0597900e-08 8.0987028e-10 1.1204939e-11\n",
            "  3.6259969e-12 1.1648506e-20 9.9999988e-01 2.6783050e-14 1.2129076e-10]\n",
            " [3.2596162e-07 4.9630131e-07 9.9999917e-01 6.8549229e-09 2.5365852e-09\n",
            "  2.0430043e-11 4.4083026e-10 8.4048688e-09 1.4874660e-09 5.0204250e-12]\n",
            " [5.5625460e-09 9.9999607e-01 1.3681566e-09 4.5504767e-11 4.5990484e-07\n",
            "  1.9216122e-06 1.3527995e-06 2.2128063e-08 9.2582852e-08 8.1746903e-09]\n",
            " [9.9999821e-01 6.4427765e-14 1.7682561e-08 3.8878248e-10 1.8315207e-11\n",
            "  1.5670782e-08 1.6724822e-06 4.7314028e-12 1.4732230e-07 1.4971715e-08]\n",
            " [1.1427776e-13 8.4903812e-13 1.5526766e-13 7.0912260e-15 9.9999976e-01\n",
            "  5.5818696e-12 3.3903875e-13 1.7882990e-10 4.9594384e-13 2.2569201e-07]\n",
            " [8.0631765e-11 9.9999857e-01 6.6567729e-10 1.7946993e-11 1.0585987e-06\n",
            "  8.8499554e-08 3.1887897e-08 9.0011618e-08 8.2629867e-08 9.4004058e-09]\n",
            " [6.6085871e-15 6.3794616e-08 1.8625027e-11 1.6722589e-14 9.9999940e-01\n",
            "  5.9399241e-10 1.4174638e-14 2.2618795e-07 5.4788718e-10 2.2173968e-07]\n",
            " [8.0681856e-10 3.5398370e-12 1.9573717e-07 9.5619512e-09 1.3556180e-04\n",
            "  3.3481942e-07 6.2451051e-11 2.5883290e-08 7.4472709e-08 9.9986374e-01]\n",
            " [8.4787558e-07 5.8771204e-12 3.2942896e-08 1.6738434e-07 5.0422843e-12\n",
            "  9.9993014e-01 4.9533890e-05 7.4049409e-13 1.7621154e-05 1.5700126e-06]]\n",
            "[7 2 1 0 4 1 4 9 5]\n"
          ],
          "name": "stdout"
        }
      ]
    },
    {
      "cell_type": "code",
      "metadata": {
        "id": "CT--y98_dr2T",
        "colab_type": "code",
        "colab": {}
      },
      "source": [
        "layer_dict = dict([(layer.name, layer) for layer in model.layers]) #Creates the dictionary to save the layer numbers from model"
      ],
      "execution_count": 0,
      "outputs": []
    },
    {
      "cell_type": "code",
      "metadata": {
        "id": "2GY4Upv4dsUR",
        "colab_type": "code",
        "outputId": "79ed647c-991d-432f-9afb-87358f650b3e",
        "colab": {
          "base_uri": "https://localhost:8080/",
          "height": 741
        }
      },
      "source": [
        "import numpy as np #Import Numpy as np\n",
        "from matplotlib import pyplot as plt #Import pyplot as plt from matplotlib\n",
        "from keras import backend as K #import backend as K from keras\n",
        "%matplotlib inline\n",
        "# util function to convert a tensor into a valid image\n",
        "def deprocess_image(x):\n",
        "    # normalize tensor: center on 0., ensure std is 0.1\n",
        "    x -= x.mean()\n",
        "    x /= (x.std() + 1e-5)\n",
        "    x *= 0.1\n",
        "\n",
        "    # clip to [0, 1]\n",
        "    x += 0.5\n",
        "    x = np.clip(x, 0, 1)\n",
        "\n",
        "    # convert to RGB array\n",
        "    x *= 255\n",
        "    #x = x.transpose((1, 2, 0))\n",
        "    x = np.clip(x, 0, 255).astype('uint8')\n",
        "    return x\n",
        "\n",
        "def vis_img_in_filter(img = np.array(X_train[2]).reshape((1, 28, 28, 1)).astype(np.float64), \n",
        "                      layer_name = 'conv2d_3'):\n",
        "    layer_output = layer_dict[layer_name].output\n",
        "    img_ascs = list()\n",
        "    for filter_index in range(layer_output.shape[3]):\n",
        "        # build a loss function that maximizes the activation\n",
        "        # of the nth filter of the layer considered\n",
        "        loss = K.mean(layer_output[:, :, :, filter_index])\n",
        "\n",
        "        # compute the gradient of the input picture wrt this loss\n",
        "        grads = K.gradients(loss, model.input)[0]\n",
        "\n",
        "        # normalization trick: we normalize the gradient\n",
        "        grads /= (K.sqrt(K.mean(K.square(grads))) + 1e-5)\n",
        "\n",
        "        # this function returns the loss and grads given the input picture\n",
        "        iterate = K.function([model.input], [loss, grads])\n",
        "\n",
        "        # step size for gradient ascent\n",
        "        step = 5.\n",
        "\n",
        "        img_asc = np.array(img)\n",
        "        # run gradient ascent for 20 steps\n",
        "        for i in range(20):\n",
        "            loss_value, grads_value = iterate([img_asc])\n",
        "            img_asc += grads_value * step\n",
        "\n",
        "        img_asc = img_asc[0]\n",
        "        img_ascs.append(deprocess_image(img_asc).reshape((28, 28)))\n",
        "        \n",
        "    if layer_output.shape[3] >= 35:\n",
        "        plot_x, plot_y = 6, 6\n",
        "    elif layer_output.shape[3] >= 23:\n",
        "        plot_x, plot_y = 4, 6\n",
        "    elif layer_output.shape[3] >= 11:\n",
        "        plot_x, plot_y = 2, 6\n",
        "    else:\n",
        "        plot_x, plot_y = 1, 2\n",
        "    fig, ax = plt.subplots(plot_x, plot_y, figsize = (12, 12))\n",
        "    ax[0, 0].imshow(img.reshape((28, 28)), cmap = 'gray')\n",
        "    ax[0, 0].set_title('Input image')\n",
        "    fig.suptitle('Input image and %s filters' % (layer_name,))\n",
        "    fig.tight_layout(pad = 0.3, rect = [0, 0, 0.9, 0.9])\n",
        "    for (x, y) in [(i, j) for i in range(plot_x) for j in range(plot_y)]:\n",
        "        if x == 0 and y == 0:\n",
        "            continue\n",
        "        ax[x, y].imshow(img_ascs[x * plot_y + y - 1], cmap = 'gray')\n",
        "        ax[x, y].set_title('filter %d' % (x * plot_y + y - 1))\n",
        "\n",
        "vis_img_in_filter()"
      ],
      "execution_count": 104,
      "outputs": [
        {
          "output_type": "display_data",
          "data": {
            "image/png": "[encoded data removed]",
            "text/plain": [
              "<Figure size 864x864 with 12 Axes>"
            ]
          },
          "metadata": {
            "tags": []
          }
        }
      ]
    },
    {
      "cell_type": "code",
      "metadata": {
        "id": "9tvptcn8dxvp",
        "colab_type": "code",
        "colab": {}
      },
      "source": [
        ""
      ],
      "execution_count": 0,
      "outputs": []
    }
  ]
}