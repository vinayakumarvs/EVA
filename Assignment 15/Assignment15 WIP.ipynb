{
 "cells": [
  {
   "cell_type": "markdown",
   "metadata": {
    "colab_type": "text",
    "id": "iFF9n9s_AJGu"
   },
   "source": [
    "# Objective is to Work on creating own library to run the Assignment-14:\n",
    "1. Convert your code such that you have 4 additional files in the below 4 folders:\n",
    "    1. data\n",
    "    2. loss\n",
    "    3. model\n",
    "    4. optim_scheduler\n",
    "2. Use these files to import related functions to train your model. The ipynb files can only have training loop, and everything else must be imported. \n",
    "    Reference:https://github.com/rwightman/pytorch-image-models/tree/master/timm\n",
    "\n"
   ]
  },
  {
   "cell_type": "code",
   "execution_count": 1,
   "metadata": {
    "colab": {
     "base_uri": "https://localhost:8080/",
     "height": 199
    },
    "colab_type": "code",
    "id": "kOsYqWHvQBrZ",
    "outputId": "d2f6df0f-d407-4495-d4f4-a1291680feed"
   },
   "outputs": [
    {
     "data": {
      "text/html": [
       "<p style=\"color: red;\">\n",
       "The default version of TensorFlow in Colab will soon switch to TensorFlow 2.x.<br>\n",
       "We recommend you <a href=\"https://www.tensorflow.org/guide/migrate\" target=\"_blank\">upgrade</a> now \n",
       "or ensure your notebook will continue to use TensorFlow 1.x via the <code>%tensorflow_version 1.x</code> magic:\n",
       "<a href=\"https://colab.research.google.com/notebooks/tensorflow_version.ipynb\" target=\"_blank\">more info</a>.</p>\n"
      ],
      "text/plain": [
       "<IPython.core.display.HTML object>"
      ]
     },
     "metadata": {
      "tags": []
     },
     "output_type": "display_data"
    },
    {
     "name": "stdout",
     "output_type": "stream",
     "text": [
      "WARNING:tensorflow:\n",
      "The TensorFlow contrib module will not be included in TensorFlow 2.0.\n",
      "For more information, please see:\n",
      "  * https://github.com/tensorflow/community/blob/master/rfcs/20180907-contrib-sunset.md\n",
      "  * https://github.com/tensorflow/addons\n",
      "  * https://github.com/tensorflow/io (for I/O related ops)\n",
      "If you depend on functionality not listed there, please file an issue.\n",
      "\n"
     ]
    }
   ],
   "source": [
    "import numpy as np\n",
    "import time, math\n",
    "from tqdm import tqdm_notebook as tqdm\n",
    "\n",
    "import tensorflow as tf\n",
    "import tensorflow.contrib.eager as tfe"
   ]
  },
  {
   "cell_type": "code",
   "execution_count": 0,
   "metadata": {
    "colab": {},
    "colab_type": "code",
    "id": "KcVY1UhnQPDO"
   },
   "outputs": [],
   "source": [
    "tf.enable_eager_execution()"
   ]
  },
  {
   "cell_type": "code",
   "execution_count": null,
   "metadata": {},
   "outputs": [],
   "source": [
    "!git clone -q https://github.com/vinayakumarvs/EVA/Assignment15.git\n",
    "import Assignment15 as fl"
   ]
  },
  {
   "cell_type": "code",
   "execution_count": 0,
   "metadata": {
    "colab": {},
    "colab_type": "code",
    "id": "4LfLeMAyQU7z"
   },
   "outputs": [],
   "source": [
    "BATCH_SIZE =  512#@param {type:\"integer\"}\n",
    "MOMENTUM = 0.9 #@param {type:\"number\"}\n",
    "LEARNING_RATE = 0.4 #@param {type:\"number\"}\n",
    "WEIGHT_DECAY = 5e-4 #@param {type:\"number\"}\n",
    "EPOCHS =  24#@param {type:\"integer\"}"
   ]
  },
  {
   "cell_type": "code",
   "execution_count": 0,
   "metadata": {
    "colab": {},
    "colab_type": "code",
    "id": "AwS9BRv_QWR0"
   },
   "outputs": [],
   "source": [
    "def init_pytorch(shape, dtype=tf.float32, partition_info=None):\n",
    "  fan = np.prod(shape[:-1])\n",
    "  bound = 1 / math.sqrt(fan)\n",
    "  return tf.random.uniform(shape, minval=-bound, maxval=bound, dtype=dtype)"
   ]
  },
  {
   "cell_type": "code",
   "execution_count": 0,
   "metadata": {
    "colab": {},
    "colab_type": "code",
    "id": "gQdPrpJ8QXvy"
   },
   "outputs": [],
   "source": [
    "class ConvBN(tf.keras.Model):\n",
    "  def __init__(self, c_out):\n",
    "    super().__init__()\n",
    "    self.conv = tf.keras.layers.Conv2D(filters=c_out, kernel_size=3, padding=\"SAME\", kernel_initializer=init_pytorch, use_bias=False)\n",
    "    self.bn = tf.keras.layers.BatchNormalization(momentum=0.9, epsilon=1e-5)\n",
    "    self.drop = tf.keras.layers.Dropout(0.1)\n",
    "\n",
    "  def call(self, inputs):\n",
    "    return tf.nn.relu(self.bn(self.drop(self.conv(inputs))))"
   ]
  },
  {
   "cell_type": "code",
   "execution_count": 0,
   "metadata": {
    "colab": {},
    "colab_type": "code",
    "id": "oBuqNlb7QZc9"
   },
   "outputs": [],
   "source": [
    "class ResBlk(tf.keras.Model):\n",
    "  def __init__(self, c_out, pool, res = False):\n",
    "    super().__init__()\n",
    "    self.conv_bn = ConvBN(c_out)\n",
    "    self.pool = pool\n",
    "    self.res = res\n",
    "    if self.res:\n",
    "      self.res1 = ConvBN(c_out)\n",
    "      self.res2 = ConvBN(c_out)\n",
    "\n",
    "  def call(self, inputs):\n",
    "    h = self.pool(self.conv_bn(inputs))\n",
    "    if self.res:\n",
    "      h = h + self.res2(self.res1(h))\n",
    "    return h"
   ]
  },
  {
   "cell_type": "code",
   "execution_count": 0,
   "metadata": {
    "colab": {},
    "colab_type": "code",
    "id": "uB5ENbbjQa7r"
   },
   "outputs": [],
   "source": [
    "class DavidNet(tf.keras.Model):\n",
    "  def __init__(self, c=64, weight=0.125):\n",
    "    super().__init__()\n",
    "    pool = tf.keras.layers.MaxPooling2D()\n",
    "    self.init_conv_bn = ConvBN(c)\n",
    "    self.blk1 = ResBlk(c*2, pool, res = True)\n",
    "    self.blk2 = ResBlk(c*4, pool)\n",
    "    self.blk3 = ResBlk(c*8, pool, res = True)\n",
    "    self.pool = tf.keras.layers.GlobalMaxPool2D()\n",
    "    self.linear = tf.keras.layers.Dense(10, kernel_initializer=init_pytorch, use_bias=False)\n",
    "    self.weight = weight\n",
    "\n",
    "  def call(self, x, y):\n",
    "    h = self.pool(self.blk3(self.blk2(self.blk1(self.init_conv_bn(x)))))\n",
    "    h = self.linear(h) * self.weight\n",
    "    ce = tf.nn.sparse_softmax_cross_entropy_with_logits(logits=h, labels=y)\n",
    "    loss = tf.reduce_sum(ce)\n",
    "    correct = tf.reduce_sum(tf.cast(tf.math.equal(tf.argmax(h, axis = 1), y), tf.float32))\n",
    "    return loss, correct"
   ]
  },
  {
   "cell_type": "markdown",
   "metadata": {
    "colab_type": "text",
    "id": "Zco6sANmtOW0"
   },
   "source": [
    "##### Define Functions\n",
    "1. Mount Google Drive to write files in TFRecords\n",
    "2. Define Functions for Normalization and Augmentation like CutOut and Flip "
   ]
  },
  {
   "cell_type": "code",
   "execution_count": 8,
   "metadata": {
    "colab": {
     "base_uri": "https://localhost:8080/",
     "height": 34
    },
    "colab_type": "code",
    "id": "gf9Lu9hV1-Hw",
    "outputId": "a66b4c91-0d22-4c6d-8c22-12ba3b72bf34"
   },
   "outputs": [
    {
     "name": "stderr",
     "output_type": "stream",
     "text": [
      "Using TensorFlow backend.\n"
     ]
    }
   ],
   "source": [
    "import os\n",
    "import sys\n",
    "from random import shuffle\n",
    "import glob\n",
    "import cv2\n",
    "import numpy as np\n",
    "import tensorflow as tf\n",
    "from google.colab import drive\n",
    "from keras.datasets import cifar10, mnist\n",
    "\n",
    "class Dataset(object):\n",
    "\n",
    "    data_path: str\n",
    "\n",
    "    def __init__(self):\n",
    "        drive.mount('../content/drive/', force_remount=True)\n",
    "        os.listdir('../content/drive/My Drive/Colab Notebooks/Assignment_14Data/')\n",
    "        self.data_path = '../content/drive/My Drive/Colab Notebooks/Assignment_14Data/'\n",
    "\n",
    "    def __int64_feature(self, value) -> tf.train.Feature:\n",
    "        return tf.train.Feature(int64_list=tf.train.Int64List(value=[value]))\n",
    "\n",
    "    def __bytes_feature(self, value) -> tf.train.Feature:\n",
    "        return tf.train.Feature(bytes_list=tf.train.BytesList(value=[value]))\n",
    "\n",
    "    def __load_image(self, addr):\n",
    "        # read an image and resize to (224, 224)\n",
    "        img = cv2.imread(addr)\n",
    "        if img is None:\n",
    "            return None\n",
    "        img = cv2.resize(img, (32, 32), interpolation=cv2.INTER_CUBIC)\n",
    "        img = cv2.cvtColor(img, cv2.COLOR_BGR2RGB)\n",
    "        return img\n",
    "\n",
    "    def __normalize(self, data_set, padding: bool = False):\n",
    "\n",
    "        # Null check\n",
    "        if data_set is None:\n",
    "            return None\n",
    "\n",
    "        mean = np.mean(data_set, axis=(0, 1, 2))\n",
    "        std = np.std(data_set, axis=(0, 1, 2))\n",
    "        normalize_data = lambda x: ((x - mean) / std).astype('float32')\n",
    "        pad4 = lambda x: np.pad(x, [(0, 0), (4, 4), (4, 4), (0, 0)], mode='reflect')\n",
    "\n",
    "        if padding:\n",
    "            data_set = pad4(data_set)\n",
    "\n",
    "        return normalize_data(data_set)\n",
    "\n",
    "    def input_fn(self, file_names, batch_size: int, buffer_size: int = 1024, is_train_file = True):\n",
    "\n",
    "        def replace_slice(input_: tf.Tensor, replacement, begin) -> tf.Tensor:\n",
    "            inp_shape = tf.shape(input_)\n",
    "            size = tf.shape(replacement)\n",
    "            padding = tf.stack([begin, inp_shape - (begin + size)], axis=1)\n",
    "            replacement_pad = tf.pad(replacement, padding)\n",
    "            mask = tf.pad(tf.ones_like(replacement, dtype=tf.bool), padding)\n",
    "            return tf.where(mask, replacement_pad, input_)\n",
    "\n",
    "        def cutout(x: tf.Tensor, h: int, w: int, c: int = 3) -> tf.Tensor:\n",
    "            \"\"\"\n",
    "            Cutout data augmentation. Randomly cuts a h by w whole in the image, and fill the whole with zeros.\n",
    "\n",
    "            :param x: Input image.\n",
    "            :param h: Height of the hole.\n",
    "            :param w: Width of the hole\n",
    "            :param c: Number of color channels in the image. Default: 3 (RGB).\n",
    "            :return: Transformed image.\n",
    "            \"\"\"\n",
    "            shape = tf.shape(x)\n",
    "            x0 = tf.random.uniform([], 0, shape[0] + 1 - h, dtype=tf.int32)\n",
    "            y0 = tf.random.uniform([], 0, shape[1] + 1 - w, dtype=tf.int32)\n",
    "            x = replace_slice(x, tf.zeros([h, w, c]), [x0, y0, 0])\n",
    "            return x\n",
    "\n",
    "        def parser(record, is_train):\n",
    "            keys_to_features = {\n",
    "                \"image_raw\": tf.FixedLenFeature([], tf.string),\n",
    "                \"label\": tf.FixedLenFeature([], tf.int64)\n",
    "            }\n",
    "            parsed = tf.parse_single_example(record, keys_to_features)\n",
    "            image = tf.decode_raw(parsed[\"image_raw\"], tf.float32)\n",
    "            label = tf.cast(parsed[\"label\"], tf.int64)\n",
    "            image = tf.reshape(image, [32, 32, 3])\n",
    "\n",
    "            # Random crop and random flip from left to right\n",
    "            if is_train:\n",
    "                image = tf.image.random_flip_left_right(tf.random_crop(image, [32, 32, 3]))\n",
    "                image = cutout(image, 10, 10)\n",
    "\n",
    "            return image, label\n",
    "\n",
    "        tfrecord_dataset = tf.data.TFRecordDataset(filenames=file_names, num_parallel_reads=40)\n",
    "        tfrecord_dataset = tfrecord_dataset.map(lambda x: parser(x, is_train_file)).shuffle(True).batch(batch_size)\n",
    "  \n",
    "        tfrecord_iterator = tfrecord_dataset.make_one_shot_iterator()\n",
    "        return tfrecord_iterator\n",
    "\n",
    "    def create_data_record(self, out_filename, addrs, labels, is_image: bool = False):\n",
    "        # open the TFRecords file\n",
    "        writer = tf.python_io.TFRecordWriter(out_filename)\n",
    "\n",
    "        for i in range(len(addrs)):\n",
    "            # Save images log\n",
    "            if not i % 2000:\n",
    "                print('{} data: {}/{}'.format(out_filename, i, len(addrs)))\n",
    "                sys.stdout.flush()\n",
    "\n",
    "            # Load Image\n",
    "            if is_image:\n",
    "                img = addrs[i]\n",
    "            else:\n",
    "                img = self.__load_image(addrs[i])\n",
    "\n",
    "            if img is None:\n",
    "                continue\n",
    "\n",
    "            label = labels[i]\n",
    "\n",
    "            # Create Feature\n",
    "            feature = {\n",
    "                'image_raw': self.__bytes_feature(img.tostring()),\n",
    "                'label': self.__int64_feature(label)\n",
    "            }\n",
    "            # Create an example protocol buffer\n",
    "            example = tf.train.Example(features=tf.train.Features(feature=feature))\n",
    "\n",
    "            # Serialize to string and write on the file\n",
    "            writer.write(example.SerializeToString())\n",
    "\n",
    "        writer.close()\n",
    "        sys.stdout.flush()\n",
    "\n",
    "    def get_record_count(self, file_name):\n",
    "        return sum(1 for _ in tf.python_io.tf_record_iterator(file_name))\n",
    "\n",
    "    def get_tf_records(self, data_set_name):\n",
    "\n",
    "        if data_set_name is None:\n",
    "            return\n",
    "\n",
    "        train_file_path = self.data_path + data_set_name + '.train.tfrecords'\n",
    "        test_file_path = self.data_path + data_set_name + '.test.tfrecords'\n",
    "\n",
    "        if 'cifar10' in data_set_name:\n",
    "            if not os.path.exists(train_file_path) or not os.path.exists(test_file_path):\n",
    "                (train_features, train_labels), (test_features, test_labels) = cifar10.load_data()\n",
    "                self.create_data_record(train_file_path, self.__normalize(train_features), train_labels, True)\n",
    "                self.create_data_record(test_file_path, self.__normalize(test_features), test_labels, True)\n",
    "        elif 'mnist' in data_set_name:\n",
    "            if not os.path.exists(train_file_path) or not os.path.exists(test_file_path):\n",
    "                (train_features, train_labels), (test_features, test_labels) = mnist.load_data()\n",
    "                self.create_data_record(train_file_path, self.__normalize(train_features), train_labels, True)\n",
    "                self.create_data_record(test_file_path, self.__normalize(test_features), test_labels, True)\n",
    "        else:\n",
    "            raise Exception(\"The data {} is not supported.\".format(data_set_name))\n",
    "\n",
    "        return train_file_path, test_file_path"
   ]
  },
  {
   "cell_type": "markdown",
   "metadata": {
    "colab_type": "text",
    "id": "orFRNvBgubTr"
   },
   "source": [
    "#### Read TFRecords to Train the Model"
   ]
  },
  {
   "cell_type": "code",
   "execution_count": 9,
   "metadata": {
    "colab": {
     "base_uri": "https://localhost:8080/",
     "height": 71
    },
    "colab_type": "code",
    "id": "Ggnz3Gcd9Nyh",
    "outputId": "5d663657-a734-44b6-d701-32278a805de6"
   },
   "outputs": [
    {
     "name": "stdout",
     "output_type": "stream",
     "text": [
      "Mounted at ../content/drive/\n",
      "../content/drive/My Drive/Colab Notebooks/Assignment_14Data/cifar10.train.tfrecords ../content/drive/My Drive/Colab Notebooks/Assignment_14Data/cifar10.test.tfrecords\n"
     ]
    }
   ],
   "source": [
    "data_set = Dataset()\n",
    "train_file_path, test_file_path = data_set.get_tf_records('cifar10')\n",
    "print(train_file_path, test_file_path)"
   ]
  },
  {
   "cell_type": "code",
   "execution_count": 10,
   "metadata": {
    "colab": {
     "base_uri": "https://localhost:8080/",
     "height": 105
    },
    "colab_type": "code",
    "id": "fTTxKF8iA8et",
    "outputId": "c1b5740c-d752-4cf3-a26c-5b085d8c0fb0"
   },
   "outputs": [
    {
     "name": "stdout",
     "output_type": "stream",
     "text": [
      "WARNING:tensorflow:From <ipython-input-8-b8cfd37e1cdb>:136: tf_record_iterator (from tensorflow.python.lib.io.tf_record) is deprecated and will be removed in a future version.\n",
      "Instructions for updating:\n",
      "Use eager execution and: \n",
      "`tf.data.TFRecordDataset(path)`\n"
     ]
    }
   ],
   "source": [
    "len_train = data_set.get_record_count(train_file_path)\n",
    "len_test= data_set.get_record_count(test_file_path)\n",
    "\n",
    "model = DavidNet()\n",
    "global_step = None\n",
    "batches_per_epoch = len_train//BATCH_SIZE + 1\n",
    "\n",
    "lr_schedule = lambda t: np.interp([t], [0, (EPOCHS+1)//5, EPOCHS], [0, LEARNING_RATE, 0])[0]\n",
    "global_step = tf.train.get_or_create_global_step()\n",
    "lr_func = lambda: lr_schedule(global_step/batches_per_epoch)/BATCH_SIZE\n",
    "opt = tf.train.MomentumOptimizer(lr_func, momentum=MOMENTUM, use_nesterov=True)\n",
    "data_aug = lambda x, y: (tf.image.random_flip_left_right(tf.random_crop(x, [32, 32, 3])), y)"
   ]
  },
  {
   "cell_type": "code",
   "execution_count": 11,
   "metadata": {
    "colab": {
     "base_uri": "https://localhost:8080/",
     "height": 1000,
     "referenced_widgets": [
      "a65819d11d5b4bd3beab6eb5c59eba4c",
      "f4211fb857534abe8fc1bd7f9cbb5009",
      "b9b12027714943dbb63bf919cba13614",
      "b163a01d9f7145c3b5d2c69ccc0348ce",
      "bd31edcc262f43aca2c3654365a3b172",
      "8d4deec3632d4a308d4f765119c8ab48",
      "2077b2baace6483ca3a18fae19144c18",
      "58593c405422467688d1c5565c562454",
      "2c9471cc3dd04827884b4a44f9e80958",
      "627e02f8c5694a18816b443a799cb8c3",
      "6bf2d28125f5468381fd6e345ec78799",
      "04e4801373924d19875169e8a0c30a15",
      "a5d54fb44ead45f5afe4b7c36384d83d",
      "2acd1a2009b840aaaca26bb18c672060",
      "e3131bfc24404d5a9b293e2b094fc749",
      "172f17ba8b2646299da681194a4b9e76",
      "7f3dffe034324fc5835ca54b0c957665",
      "92a9218f6bc141fc9fbb57f9d60ba504",
      "f8e2bfd4c4094a7caa32db34d5b76c75",
      "9b8eba94c7b241bd9649358e43ad5445",
      "2704e86a02ce4ca4bfe0eab1fabccd03",
      "cfc070694a25429fa657ef96bd4bd04d",
      "5558521544bc49e1adec10e6c38f9d06",
      "e3ffabd05b9a429b9f787366f39a4ac5"
     ]
    },
    "colab_type": "code",
    "id": "Eeqp9zgtQjQN",
    "outputId": "40d0a575-ded0-4483-ff26-b3ad422816f5"
   },
   "outputs": [
    {
     "name": "stdout",
     "output_type": "stream",
     "text": [
      "WARNING:tensorflow:From /usr/local/lib/python3.6/dist-packages/tensorflow_core/python/autograph/converters/directives.py:119: The name tf.FixedLenFeature is deprecated. Please use tf.io.FixedLenFeature instead.\n",
      "\n",
      "WARNING:tensorflow:From /usr/local/lib/python3.6/dist-packages/tensorflow_core/python/autograph/converters/directives.py:119: The name tf.parse_single_example is deprecated. Please use tf.io.parse_single_example instead.\n",
      "\n",
      "WARNING:tensorflow:From /usr/local/lib/python3.6/dist-packages/tensorflow_core/python/autograph/converters/directives.py:119: The name tf.random_crop is deprecated. Please use tf.image.random_crop instead.\n",
      "\n",
      "WARNING:tensorflow:From <ipython-input-8-b8cfd37e1cdb>:59: where (from tensorflow.python.ops.array_ops) is deprecated and will be removed in a future version.\n",
      "Instructions for updating:\n",
      "Use tf.where in 2.0, which has the same broadcast rule as np.where\n",
      "WARNING:tensorflow:From <ipython-input-8-b8cfd37e1cdb>:97: DatasetV1.make_one_shot_iterator (from tensorflow.python.data.ops.dataset_ops) is deprecated and will be removed in a future version.\n",
      "Instructions for updating:\n",
      "Use `for ... in dataset:` to iterate over a dataset. If using `tf.estimator`, return the `Dataset` object directly from your input function. As a last resort, you can use `tf.compat.v1.data.make_one_shot_iterator(dataset)`.\n"
     ]
    },
    {
     "data": {
      "application/vnd.jupyter.widget-view+json": {
       "model_id": "a65819d11d5b4bd3beab6eb5c59eba4c",
       "version_major": 2,
       "version_minor": 0
      },
      "text/plain": [
       "HBox(children=(IntProgress(value=1, bar_style='info', max=1), HTML(value='')))"
      ]
     },
     "metadata": {
      "tags": []
     },
     "output_type": "display_data"
    },
    {
     "name": "stdout",
     "output_type": "stream",
     "text": [
      "\n",
      "epoch: 1 lr: 0.08 train loss: 1.6806415795898437 train acc: 0.38914 val loss: 1.2243451812744142 val acc: 0.5594 time: 60.7623028755188\n"
     ]
    },
    {
     "data": {
      "application/vnd.jupyter.widget-view+json": {
       "model_id": "f4211fb857534abe8fc1bd7f9cbb5009",
       "version_major": 2,
       "version_minor": 0
      },
      "text/plain": [
       "HBox(children=(IntProgress(value=1, bar_style='info', max=1), HTML(value='')))"
      ]
     },
     "metadata": {
      "tags": []
     },
     "output_type": "display_data"
    },
    {
     "name": "stdout",
     "output_type": "stream",
     "text": [
      "\n",
      "epoch: 2 lr: 0.16 train loss: 0.9846619055175782 train acc: 0.64682 val loss: 0.7667159561157226 val acc: 0.7303 time: 110.20129656791687\n"
     ]
    },
    {
     "data": {
      "application/vnd.jupyter.widget-view+json": {
       "model_id": "b9b12027714943dbb63bf919cba13614",
       "version_major": 2,
       "version_minor": 0
      },
      "text/plain": [
       "HBox(children=(IntProgress(value=1, bar_style='info', max=1), HTML(value='')))"
      ]
     },
     "metadata": {
      "tags": []
     },
     "output_type": "display_data"
    },
    {
     "name": "stdout",
     "output_type": "stream",
     "text": [
      "\n",
      "epoch: 3 lr: 0.24 train loss: 0.7697196243286133 train acc: 0.72906 val loss: 0.7951693267822265 val acc: 0.736 time: 158.92873811721802\n"
     ]
    },
    {
     "data": {
      "application/vnd.jupyter.widget-view+json": {
       "model_id": "b163a01d9f7145c3b5d2c69ccc0348ce",
       "version_major": 2,
       "version_minor": 0
      },
      "text/plain": [
       "HBox(children=(IntProgress(value=1, bar_style='info', max=1), HTML(value='')))"
      ]
     },
     "metadata": {
      "tags": []
     },
     "output_type": "display_data"
    },
    {
     "name": "stdout",
     "output_type": "stream",
     "text": [
      "\n",
      "epoch: 4 lr: 0.32 train loss: 0.6656028549194336 train acc: 0.7672 val loss: 0.7483978088378906 val acc: 0.7528 time: 207.91357922554016\n"
     ]
    },
    {
     "data": {
      "application/vnd.jupyter.widget-view+json": {
       "model_id": "bd31edcc262f43aca2c3654365a3b172",
       "version_major": 2,
       "version_minor": 0
      },
      "text/plain": [
       "HBox(children=(IntProgress(value=1, bar_style='info', max=1), HTML(value='')))"
      ]
     },
     "metadata": {
      "tags": []
     },
     "output_type": "display_data"
    },
    {
     "name": "stdout",
     "output_type": "stream",
     "text": [
      "\n",
      "epoch: 5 lr: 0.4 train loss: 0.6120578289794922 train acc: 0.78822 val loss: 0.557934376525879 val acc: 0.8155 time: 256.8893356323242\n"
     ]
    },
    {
     "data": {
      "application/vnd.jupyter.widget-view+json": {
       "model_id": "8d4deec3632d4a308d4f765119c8ab48",
       "version_major": 2,
       "version_minor": 0
      },
      "text/plain": [
       "HBox(children=(IntProgress(value=1, bar_style='info', max=1), HTML(value='')))"
      ]
     },
     "metadata": {
      "tags": []
     },
     "output_type": "display_data"
    },
    {
     "name": "stdout",
     "output_type": "stream",
     "text": [
      "\n",
      "epoch: 6 lr: 0.37894736842105264 train loss: 0.5127377392578125 train acc: 0.82178 val loss: 0.5635189849853516 val acc: 0.8256 time: 306.66149854660034\n"
     ]
    },
    {
     "data": {
      "application/vnd.jupyter.widget-view+json": {
       "model_id": "2077b2baace6483ca3a18fae19144c18",
       "version_major": 2,
       "version_minor": 0
      },
      "text/plain": [
       "HBox(children=(IntProgress(value=1, bar_style='info', max=1), HTML(value='')))"
      ]
     },
     "metadata": {
      "tags": []
     },
     "output_type": "display_data"
    },
    {
     "name": "stdout",
     "output_type": "stream",
     "text": [
      "\n",
      "epoch: 7 lr: 0.35789473684210527 train loss: 0.4194139375305176 train acc: 0.85286 val loss: 0.5258476593017578 val acc: 0.827 time: 355.96831035614014\n"
     ]
    },
    {
     "data": {
      "application/vnd.jupyter.widget-view+json": {
       "model_id": "58593c405422467688d1c5565c562454",
       "version_major": 2,
       "version_minor": 0
      },
      "text/plain": [
       "HBox(children=(IntProgress(value=1, bar_style='info', max=1), HTML(value='')))"
      ]
     },
     "metadata": {
      "tags": []
     },
     "output_type": "display_data"
    },
    {
     "name": "stdout",
     "output_type": "stream",
     "text": [
      "\n",
      "epoch: 8 lr: 0.33684210526315794 train loss: 0.3680939593505859 train acc: 0.87126 val loss: 0.47006245727539064 val acc: 0.8449 time: 404.8794758319855\n"
     ]
    },
    {
     "data": {
      "application/vnd.jupyter.widget-view+json": {
       "model_id": "2c9471cc3dd04827884b4a44f9e80958",
       "version_major": 2,
       "version_minor": 0
      },
      "text/plain": [
       "HBox(children=(IntProgress(value=1, bar_style='info', max=1), HTML(value='')))"
      ]
     },
     "metadata": {
      "tags": []
     },
     "output_type": "display_data"
    },
    {
     "name": "stdout",
     "output_type": "stream",
     "text": [
      "\n",
      "epoch: 9 lr: 0.31578947368421056 train loss: 0.3172576823425293 train acc: 0.8899 val loss: 0.39801264419555665 val acc: 0.8668 time: 453.6769814491272\n"
     ]
    },
    {
     "data": {
      "application/vnd.jupyter.widget-view+json": {
       "model_id": "627e02f8c5694a18816b443a799cb8c3",
       "version_major": 2,
       "version_minor": 0
      },
      "text/plain": [
       "HBox(children=(IntProgress(value=1, bar_style='info', max=1), HTML(value='')))"
      ]
     },
     "metadata": {
      "tags": []
     },
     "output_type": "display_data"
    },
    {
     "name": "stdout",
     "output_type": "stream",
     "text": [
      "\n",
      "epoch: 10 lr: 0.2947368421052632 train loss: 0.2861446319580078 train acc: 0.89998 val loss: 0.410256950378418 val acc: 0.8666 time: 502.5094406604767\n"
     ]
    },
    {
     "data": {
      "application/vnd.jupyter.widget-view+json": {
       "model_id": "6bf2d28125f5468381fd6e345ec78799",
       "version_major": 2,
       "version_minor": 0
      },
      "text/plain": [
       "HBox(children=(IntProgress(value=1, bar_style='info', max=1), HTML(value='')))"
      ]
     },
     "metadata": {
      "tags": []
     },
     "output_type": "display_data"
    },
    {
     "name": "stdout",
     "output_type": "stream",
     "text": [
      "\n",
      "epoch: 11 lr: 0.2736842105263158 train loss: 0.2527581120300293 train acc: 0.9115 val loss: 0.33473280487060547 val acc: 0.8864 time: 551.2708539962769\n"
     ]
    },
    {
     "data": {
      "application/vnd.jupyter.widget-view+json": {
       "model_id": "04e4801373924d19875169e8a0c30a15",
       "version_major": 2,
       "version_minor": 0
      },
      "text/plain": [
       "HBox(children=(IntProgress(value=1, bar_style='info', max=1), HTML(value='')))"
      ]
     },
     "metadata": {
      "tags": []
     },
     "output_type": "display_data"
    },
    {
     "name": "stdout",
     "output_type": "stream",
     "text": [
      "\n",
      "epoch: 12 lr: 0.25263157894736843 train loss: 0.2275924188232422 train acc: 0.9198 val loss: 0.3406046859741211 val acc: 0.888 time: 599.7198417186737\n"
     ]
    },
    {
     "data": {
      "application/vnd.jupyter.widget-view+json": {
       "model_id": "a5d54fb44ead45f5afe4b7c36384d83d",
       "version_major": 2,
       "version_minor": 0
      },
      "text/plain": [
       "HBox(children=(IntProgress(value=1, bar_style='info', max=1), HTML(value='')))"
      ]
     },
     "metadata": {
      "tags": []
     },
     "output_type": "display_data"
    },
    {
     "name": "stdout",
     "output_type": "stream",
     "text": [
      "\n",
      "epoch: 13 lr: 0.23157894736842108 train loss: 0.20322978073120118 train acc: 0.92972 val loss: 0.3227912239074707 val acc: 0.8936 time: 648.9327340126038\n"
     ]
    },
    {
     "data": {
      "application/vnd.jupyter.widget-view+json": {
       "model_id": "2acd1a2009b840aaaca26bb18c672060",
       "version_major": 2,
       "version_minor": 0
      },
      "text/plain": [
       "HBox(children=(IntProgress(value=1, bar_style='info', max=1), HTML(value='')))"
      ]
     },
     "metadata": {
      "tags": []
     },
     "output_type": "display_data"
    },
    {
     "name": "stdout",
     "output_type": "stream",
     "text": [
      "\n",
      "epoch: 14 lr: 0.2105263157894737 train loss: 0.17755862800598143 train acc: 0.93836 val loss: 0.3295452865600586 val acc: 0.8905 time: 697.4011785984039\n"
     ]
    },
    {
     "data": {
      "application/vnd.jupyter.widget-view+json": {
       "model_id": "e3131bfc24404d5a9b293e2b094fc749",
       "version_major": 2,
       "version_minor": 0
      },
      "text/plain": [
       "HBox(children=(IntProgress(value=1, bar_style='info', max=1), HTML(value='')))"
      ]
     },
     "metadata": {
      "tags": []
     },
     "output_type": "display_data"
    },
    {
     "name": "stdout",
     "output_type": "stream",
     "text": [
      "\n",
      "epoch: 15 lr: 0.18947368421052635 train loss: 0.15777068321228027 train acc: 0.94552 val loss: 0.3253570991516113 val acc: 0.8925 time: 745.7488441467285\n"
     ]
    },
    {
     "data": {
      "application/vnd.jupyter.widget-view+json": {
       "model_id": "172f17ba8b2646299da681194a4b9e76",
       "version_major": 2,
       "version_minor": 0
      },
      "text/plain": [
       "HBox(children=(IntProgress(value=1, bar_style='info', max=1), HTML(value='')))"
      ]
     },
     "metadata": {
      "tags": []
     },
     "output_type": "display_data"
    },
    {
     "name": "stdout",
     "output_type": "stream",
     "text": [
      "\n",
      "epoch: 16 lr: 0.16842105263157897 train loss: 0.14029958671569825 train acc: 0.95046 val loss: 0.3154951026916504 val acc: 0.8984 time: 793.9014747142792\n"
     ]
    },
    {
     "data": {
      "application/vnd.jupyter.widget-view+json": {
       "model_id": "7f3dffe034324fc5835ca54b0c957665",
       "version_major": 2,
       "version_minor": 0
      },
      "text/plain": [
       "HBox(children=(IntProgress(value=1, bar_style='info', max=1), HTML(value='')))"
      ]
     },
     "metadata": {
      "tags": []
     },
     "output_type": "display_data"
    },
    {
     "name": "stdout",
     "output_type": "stream",
     "text": [
      "\n",
      "epoch: 17 lr: 0.1473684210526316 train loss: 0.12136688911437989 train acc: 0.95856 val loss: 0.3434042175292969 val acc: 0.8951 time: 842.0621914863586\n"
     ]
    },
    {
     "data": {
      "application/vnd.jupyter.widget-view+json": {
       "model_id": "92a9218f6bc141fc9fbb57f9d60ba504",
       "version_major": 2,
       "version_minor": 0
      },
      "text/plain": [
       "HBox(children=(IntProgress(value=1, bar_style='info', max=1), HTML(value='')))"
      ]
     },
     "metadata": {
      "tags": []
     },
     "output_type": "display_data"
    },
    {
     "name": "stdout",
     "output_type": "stream",
     "text": [
      "\n",
      "epoch: 18 lr: 0.12631578947368421 train loss: 0.10614925220489502 train acc: 0.96416 val loss: 0.3138007652282715 val acc: 0.9016 time: 890.6160085201263\n"
     ]
    },
    {
     "data": {
      "application/vnd.jupyter.widget-view+json": {
       "model_id": "f8e2bfd4c4094a7caa32db34d5b76c75",
       "version_major": 2,
       "version_minor": 0
      },
      "text/plain": [
       "HBox(children=(IntProgress(value=1, bar_style='info', max=1), HTML(value='')))"
      ]
     },
     "metadata": {
      "tags": []
     },
     "output_type": "display_data"
    },
    {
     "name": "stdout",
     "output_type": "stream",
     "text": [
      "\n",
      "epoch: 19 lr: 0.10526315789473689 train loss: 0.0937892744064331 train acc: 0.96868 val loss: 0.29969066848754883 val acc: 0.9077 time: 939.5716695785522\n"
     ]
    },
    {
     "data": {
      "application/vnd.jupyter.widget-view+json": {
       "model_id": "9b8eba94c7b241bd9649358e43ad5445",
       "version_major": 2,
       "version_minor": 0
      },
      "text/plain": [
       "HBox(children=(IntProgress(value=1, bar_style='info', max=1), HTML(value='')))"
      ]
     },
     "metadata": {
      "tags": []
     },
     "output_type": "display_data"
    },
    {
     "name": "stdout",
     "output_type": "stream",
     "text": [
      "\n",
      "epoch: 20 lr: 0.08421052631578951 train loss: 0.0827849578857422 train acc: 0.97326 val loss: 0.2969021675109863 val acc: 0.9075 time: 987.6375949382782\n"
     ]
    },
    {
     "data": {
      "application/vnd.jupyter.widget-view+json": {
       "model_id": "2704e86a02ce4ca4bfe0eab1fabccd03",
       "version_major": 2,
       "version_minor": 0
      },
      "text/plain": [
       "HBox(children=(IntProgress(value=1, bar_style='info', max=1), HTML(value='')))"
      ]
     },
     "metadata": {
      "tags": []
     },
     "output_type": "display_data"
    },
    {
     "name": "stdout",
     "output_type": "stream",
     "text": [
      "\n",
      "epoch: 21 lr: 0.06315789473684214 train loss: 0.06974636688232422 train acc: 0.97704 val loss: 0.3017078201293945 val acc: 0.9122 time: 1035.734454870224\n"
     ]
    },
    {
     "data": {
      "application/vnd.jupyter.widget-view+json": {
       "model_id": "cfc070694a25429fa657ef96bd4bd04d",
       "version_major": 2,
       "version_minor": 0
      },
      "text/plain": [
       "HBox(children=(IntProgress(value=1, bar_style='info', max=1), HTML(value='')))"
      ]
     },
     "metadata": {
      "tags": []
     },
     "output_type": "display_data"
    },
    {
     "name": "stdout",
     "output_type": "stream",
     "text": [
      "\n",
      "epoch: 22 lr: 0.04210526315789476 train loss: 0.06167115928649902 train acc: 0.98012 val loss: 0.2917001365661621 val acc: 0.9141 time: 1083.654104232788\n"
     ]
    },
    {
     "data": {
      "application/vnd.jupyter.widget-view+json": {
       "model_id": "5558521544bc49e1adec10e6c38f9d06",
       "version_major": 2,
       "version_minor": 0
      },
      "text/plain": [
       "HBox(children=(IntProgress(value=1, bar_style='info', max=1), HTML(value='')))"
      ]
     },
     "metadata": {
      "tags": []
     },
     "output_type": "display_data"
    },
    {
     "name": "stdout",
     "output_type": "stream",
     "text": [
      "\n",
      "epoch: 23 lr: 0.02105263157894738 train loss: 0.05616674644470215 train acc: 0.98182 val loss: 0.28425884323120115 val acc: 0.917 time: 1131.7750017642975\n"
     ]
    },
    {
     "data": {
      "application/vnd.jupyter.widget-view+json": {
       "model_id": "e3ffabd05b9a429b9f787366f39a4ac5",
       "version_major": 2,
       "version_minor": 0
      },
      "text/plain": [
       "HBox(children=(IntProgress(value=1, bar_style='info', max=1), HTML(value='')))"
      ]
     },
     "metadata": {
      "tags": []
     },
     "output_type": "display_data"
    },
    {
     "name": "stdout",
     "output_type": "stream",
     "text": [
      "\n",
      "epoch: 24 lr: 0.0 train loss: 0.05436177185058594 train acc: 0.98338 val loss: 0.27814249038696287 val acc: 0.9181 time: 1179.8392450809479\n"
     ]
    }
   ],
   "source": [
    "t = time.time()\n",
    "\n",
    "# Store Results\n",
    "train_loss_results = []\n",
    "test_loss_results = []\n",
    "train_accuracy_results = []\n",
    "test_accuracy_results = []\n",
    "\n",
    "for epoch in range(EPOCHS):\n",
    "  train_loss = test_loss = train_acc = test_acc = 0.0\n",
    "  train_set = data_set.input_fn(train_file_path, BATCH_SIZE)\n",
    "  \n",
    "  tf.keras.backend.set_learning_phase(1)\n",
    "  for (x, y) in tqdm(train_set):\n",
    "    with tf.GradientTape() as tape:\n",
    "      loss, correct = model(x, y)\n",
    "\n",
    "    var = model.trainable_variables\n",
    "    grads = tape.gradient(loss, var)\n",
    "    for g, v in zip(grads, var):\n",
    "      g += v * WEIGHT_DECAY * BATCH_SIZE\n",
    "    opt.apply_gradients(zip(grads, var), global_step=global_step)\n",
    "\n",
    "    train_loss += loss.numpy()\n",
    "    train_acc += correct.numpy()\n",
    "  \n",
    "  tf.keras.backend.set_learning_phase(0)\n",
    "  test_set = data_set.input_fn(file_names = test_file_path, batch_size = BATCH_SIZE, is_train_file = False)\n",
    "  for (x, y) in test_set:\n",
    "    loss, correct = model(x, y)\n",
    "    test_loss += loss.numpy()\n",
    "    test_acc += correct.numpy()\n",
    "\n",
    "  train_loss_results.append(train_loss / len_train)\n",
    "  test_loss_results.append(test_loss / len_test)\n",
    "\n",
    "  train_accuracy_results.append(train_acc / len_train)\n",
    "  test_accuracy_results.append(test_acc / len_test)\n",
    "  \n",
    "  print('epoch:', epoch+1, 'lr:', lr_schedule(epoch+1), 'train loss:', train_loss / len_train, 'train acc:', train_acc / len_train, 'val loss:', test_loss / len_test, 'val acc:', test_acc / len_test, 'time:', time.time() - t)"
   ]
  },
  {
   "cell_type": "code",
   "execution_count": 12,
   "metadata": {
    "colab": {
     "base_uri": "https://localhost:8080/",
     "height": 582
    },
    "colab_type": "code",
    "id": "F7acnsEqroIY",
    "outputId": "cc6edc3f-9f8c-4493-e588-3e1f9ffdef79"
   },
   "outputs": [
    {
     "data": {
      "image/png": "[encoded data removed]",
      "text/plain": [
       "<Figure size 1600x640 with 2 Axes>"
      ]
     },
     "metadata": {
      "tags": []
     },
     "output_type": "display_data"
    },
    {
     "name": "stdout",
     "output_type": "stream",
     "text": [
      "Best Accuracy is 0.9181\n"
     ]
    }
   ],
   "source": [
    "import matplotlib.pyplot as plt\n",
    "from matplotlib.pyplot import figure\n",
    "\n",
    "figure(num=None, figsize=(20, 8), dpi=80, facecolor='w', edgecolor='k')\n",
    "\n",
    "# Accuracy Summarization\n",
    "plt.subplot(1, 2, 1)\n",
    "plt.plot(train_accuracy_results)\n",
    "plt.plot(test_accuracy_results)\n",
    "plt.title('Model Accuracy')\n",
    "plt.ylabel('Accuracy')\n",
    "plt.xlabel('epoch')\n",
    "plt.legend(['Train', 'Test'], loc='upper left')\n",
    "\n",
    "# Loss Summarization\n",
    "plt.subplot(1, 2, 2)\n",
    "plt.plot(train_loss_results)\n",
    "plt.plot(test_loss_results)\n",
    "plt.title('Model Loss')\n",
    "plt.ylabel('Loss')\n",
    "plt.xlabel('epoch')\n",
    "plt.legend(['Train', 'Test'], loc='upper left')\n",
    "plt.show()\n",
    "\n",
    "print('Best Accuracy is {}'.format(np.amax(test_accuracy_results)))"
   ]
  },
  {
   "cell_type": "markdown",
   "metadata": {
    "colab_type": "text",
    "id": "7li-wMRRxcnc"
   },
   "source": [
    "## Fuel for Thoughts\n",
    "\n",
    "1. Consuming more time to train than the Davidnet using the direct Cifar10 Images.\n",
    "\n"
   ]
  }
 ],
 "metadata": {
  "accelerator": "GPU",
  "colab": {
   "collapsed_sections": [],
   "name": "Assignment_14.ipynb",
   "provenance": []
  },
  "kernelspec": {
   "display_name": "Python 3",
   "language": "python",
   "name": "python3"
  },
  "language_info": {
   "codemirror_mode": {
    "name": "ipython",
    "version": 3
   },
   "file_extension": ".py",
   "mimetype": "text/x-python",
   "name": "python",
   "nbconvert_exporter": "python",
   "pygments_lexer": "ipython3",
   "version": "3.7.3"
  },
  "widgets": {
   "application/vnd.jupyter.widget-state+json": {
    "04e4801373924d19875169e8a0c30a15": {
     "model_module": "@jupyter-widgets/controls",
     "model_name": "HBoxModel",
     "state": {
      "_dom_classes": [],
      "_model_module": "@jupyter-widgets/controls",
      "_model_module_version": "1.5.0",
      "_model_name": "HBoxModel",
      "_view_count": null,
      "_view_module": "@jupyter-widgets/controls",
      "_view_module_version": "1.5.0",
      "_view_name": "HBoxView",
      "box_style": "",
      "children": [
       "IPY_MODEL_705a382bf712435fb1621ad302c2888e",
       "IPY_MODEL_a14f46f3bf5b491cae8a52bd436a4563"
      ],
      "layout": "IPY_MODEL_e87e9f1709754a97834abf3f330e559b"
     }
    },
    "172f17ba8b2646299da681194a4b9e76": {
     "model_module": "@jupyter-widgets/controls",
     "model_name": "HBoxModel",
     "state": {
      "_dom_classes": [],
      "_model_module": "@jupyter-widgets/controls",
      "_model_module_version": "1.5.0",
      "_model_name": "HBoxModel",
      "_view_count": null,
      "_view_module": "@jupyter-widgets/controls",
      "_view_module_version": "1.5.0",
      "_view_name": "HBoxView",
      "box_style": "",
      "children": [
       "IPY_MODEL_41d4cdb394bf44c7b60741f78a039ea5",
       "IPY_MODEL_130db6b143cd4ebda5fb4c09ddf635e3"
      ],
      "layout": "IPY_MODEL_e03760fd3d4a49e08ad08843751f7b98"
     }
    },
    "2077b2baace6483ca3a18fae19144c18": {
     "model_module": "@jupyter-widgets/controls",
     "model_name": "HBoxModel",
     "state": {
      "_dom_classes": [],
      "_model_module": "@jupyter-widgets/controls",
      "_model_module_version": "1.5.0",
      "_model_name": "HBoxModel",
      "_view_count": null,
      "_view_module": "@jupyter-widgets/controls",
      "_view_module_version": "1.5.0",
      "_view_name": "HBoxView",
      "box_style": "",
      "children": [
       "IPY_MODEL_b2c06631696343a391fea48ba49434fb",
       "IPY_MODEL_1467909c54c8496c86f634325dd84620"
      ],
      "layout": "IPY_MODEL_4d3957012e2a4005be3d250339a17a45"
     }
    },
    "2704e86a02ce4ca4bfe0eab1fabccd03": {
     "model_module": "@jupyter-widgets/controls",
     "model_name": "HBoxModel",
     "state": {
      "_dom_classes": [],
      "_model_module": "@jupyter-widgets/controls",
      "_model_module_version": "1.5.0",
      "_model_name": "HBoxModel",
      "_view_count": null,
      "_view_module": "@jupyter-widgets/controls",
      "_view_module_version": "1.5.0",
      "_view_name": "HBoxView",
      "box_style": "",
      "children": [
       "IPY_MODEL_0c09b4840824413f9eb99521a039bd13",
       "IPY_MODEL_413cb699d4bf4234a36f8bb7e69086bb"
      ],
      "layout": "IPY_MODEL_34a0973f1fb04493ace42c23e6a6598c"
     }
    },
    "2acd1a2009b840aaaca26bb18c672060": {
     "model_module": "@jupyter-widgets/controls",
     "model_name": "HBoxModel",
     "state": {
      "_dom_classes": [],
      "_model_module": "@jupyter-widgets/controls",
      "_model_module_version": "1.5.0",
      "_model_name": "HBoxModel",
      "_view_count": null,
      "_view_module": "@jupyter-widgets/controls",
      "_view_module_version": "1.5.0",
      "_view_name": "HBoxView",
      "box_style": "",
      "children": [
       "IPY_MODEL_c565969843dc40848ce0ac1c985d4fcf",
       "IPY_MODEL_1d7c3e3957224e058a37d03b49090596"
      ],
      "layout": "IPY_MODEL_3490e3a57a254bb4963b44f4164af3dd"
     }
    },
    "2c9471cc3dd04827884b4a44f9e80958": {
     "model_module": "@jupyter-widgets/controls",
     "model_name": "HBoxModel",
     "state": {
      "_dom_classes": [],
      "_model_module": "@jupyter-widgets/controls",
      "_model_module_version": "1.5.0",
      "_model_name": "HBoxModel",
      "_view_count": null,
      "_view_module": "@jupyter-widgets/controls",
      "_view_module_version": "1.5.0",
      "_view_name": "HBoxView",
      "box_style": "",
      "children": [
       "IPY_MODEL_f5344e46dc1a42b98a742164896abf64",
       "IPY_MODEL_7c772eb11e064fe6b1eba791ce10c215"
      ],
      "layout": "IPY_MODEL_005cc6f505b14ee7b331e282d5a8b04a"
     }
    },
    "5558521544bc49e1adec10e6c38f9d06": {
     "model_module": "@jupyter-widgets/controls",
     "model_name": "HBoxModel",
     "state": {
      "_dom_classes": [],
      "_model_module": "@jupyter-widgets/controls",
      "_model_module_version": "1.5.0",
      "_model_name": "HBoxModel",
      "_view_count": null,
      "_view_module": "@jupyter-widgets/controls",
      "_view_module_version": "1.5.0",
      "_view_name": "HBoxView",
      "box_style": "",
      "children": [
       "IPY_MODEL_3e9201b937e648eb9448d9cb48d48b87",
       "IPY_MODEL_4104a6c30ad54feab4545b5ca7d0b7e6"
      ],
      "layout": "IPY_MODEL_f382688cc87f44ccba6932992f43b040"
     }
    },
    "58593c405422467688d1c5565c562454": {
     "model_module": "@jupyter-widgets/controls",
     "model_name": "HBoxModel",
     "state": {
      "_dom_classes": [],
      "_model_module": "@jupyter-widgets/controls",
      "_model_module_version": "1.5.0",
      "_model_name": "HBoxModel",
      "_view_count": null,
      "_view_module": "@jupyter-widgets/controls",
      "_view_module_version": "1.5.0",
      "_view_name": "HBoxView",
      "box_style": "",
      "children": [
       "IPY_MODEL_2aa2c1717d6f43edac291c0fdaec38ae",
       "IPY_MODEL_002c7752bd334010b087cc9753b98c45"
      ],
      "layout": "IPY_MODEL_8fe289d03f954762b63bae9d7a154953"
     }
    },
    "627e02f8c5694a18816b443a799cb8c3": {
     "model_module": "@jupyter-widgets/controls",
     "model_name": "HBoxModel",
     "state": {
      "_dom_classes": [],
      "_model_module": "@jupyter-widgets/controls",
      "_model_module_version": "1.5.0",
      "_model_name": "HBoxModel",
      "_view_count": null,
      "_view_module": "@jupyter-widgets/controls",
      "_view_module_version": "1.5.0",
      "_view_name": "HBoxView",
      "box_style": "",
      "children": [
       "IPY_MODEL_90bbc415049245d89b4e06ac48d9e85d",
       "IPY_MODEL_22d625894327428595adfa90c75da352"
      ],
      "layout": "IPY_MODEL_9f7250a0e62a4b42b1399127ef842079"
     }
    },
    "6bf2d28125f5468381fd6e345ec78799": {
     "model_module": "@jupyter-widgets/controls",
     "model_name": "HBoxModel",
     "state": {
      "_dom_classes": [],
      "_model_module": "@jupyter-widgets/controls",
      "_model_module_version": "1.5.0",
      "_model_name": "HBoxModel",
      "_view_count": null,
      "_view_module": "@jupyter-widgets/controls",
      "_view_module_version": "1.5.0",
      "_view_name": "HBoxView",
      "box_style": "",
      "children": [
       "IPY_MODEL_33b76bac5c3f409084b467e0a02bee6d",
       "IPY_MODEL_0e3a7e92eaac483ebd8cb25a1e845ee4"
      ],
      "layout": "IPY_MODEL_db6b58a8e34f4c2694f0a21a2185bcb0"
     }
    },
    "7f3dffe034324fc5835ca54b0c957665": {
     "model_module": "@jupyter-widgets/controls",
     "model_name": "HBoxModel",
     "state": {
      "_dom_classes": [],
      "_model_module": "@jupyter-widgets/controls",
      "_model_module_version": "1.5.0",
      "_model_name": "HBoxModel",
      "_view_count": null,
      "_view_module": "@jupyter-widgets/controls",
      "_view_module_version": "1.5.0",
      "_view_name": "HBoxView",
      "box_style": "",
      "children": [
       "IPY_MODEL_a5af17d4e3bc4c75b267aad317854f3b",
       "IPY_MODEL_027b47e766514b42a3d672686df904b1"
      ],
      "layout": "IPY_MODEL_bf3779f1226644a288408e73af1059fb"
     }
    },
    "8d4deec3632d4a308d4f765119c8ab48": {
     "model_module": "@jupyter-widgets/controls",
     "model_name": "HBoxModel",
     "state": {
      "_dom_classes": [],
      "_model_module": "@jupyter-widgets/controls",
      "_model_module_version": "1.5.0",
      "_model_name": "HBoxModel",
      "_view_count": null,
      "_view_module": "@jupyter-widgets/controls",
      "_view_module_version": "1.5.0",
      "_view_name": "HBoxView",
      "box_style": "",
      "children": [
       "IPY_MODEL_7c5e4eae880d461f9177597f96a72257",
       "IPY_MODEL_bf1faa096b3b4140b8b2c4c0702a6c38"
      ],
      "layout": "IPY_MODEL_54e97465b4834b17a9d8c170718ab0cb"
     }
    },
    "92a9218f6bc141fc9fbb57f9d60ba504": {
     "model_module": "@jupyter-widgets/controls",
     "model_name": "HBoxModel",
     "state": {
      "_dom_classes": [],
      "_model_module": "@jupyter-widgets/controls",
      "_model_module_version": "1.5.0",
      "_model_name": "HBoxModel",
      "_view_count": null,
      "_view_module": "@jupyter-widgets/controls",
      "_view_module_version": "1.5.0",
      "_view_name": "HBoxView",
      "box_style": "",
      "children": [
       "IPY_MODEL_323ac3967b1a475e8b2e552f50610475",
       "IPY_MODEL_7dc2be71cd7c4f3a97e3e06a09974673"
      ],
      "layout": "IPY_MODEL_61c6838eb8804a05ab275dd4cd98da91"
     }
    },
    "9b8eba94c7b241bd9649358e43ad5445": {
     "model_module": "@jupyter-widgets/controls",
     "model_name": "HBoxModel",
     "state": {
      "_dom_classes": [],
      "_model_module": "@jupyter-widgets/controls",
      "_model_module_version": "1.5.0",
      "_model_name": "HBoxModel",
      "_view_count": null,
      "_view_module": "@jupyter-widgets/controls",
      "_view_module_version": "1.5.0",
      "_view_name": "HBoxView",
      "box_style": "",
      "children": [
       "IPY_MODEL_425340a47e4c4976add25a7aedf43bcb",
       "IPY_MODEL_7f08a6ddc2954e9dab820b95c510d5aa"
      ],
      "layout": "IPY_MODEL_b0832f6104574b019764060c04319508"
     }
    },
    "a5d54fb44ead45f5afe4b7c36384d83d": {
     "model_module": "@jupyter-widgets/controls",
     "model_name": "HBoxModel",
     "state": {
      "_dom_classes": [],
      "_model_module": "@jupyter-widgets/controls",
      "_model_module_version": "1.5.0",
      "_model_name": "HBoxModel",
      "_view_count": null,
      "_view_module": "@jupyter-widgets/controls",
      "_view_module_version": "1.5.0",
      "_view_name": "HBoxView",
      "box_style": "",
      "children": [
       "IPY_MODEL_bfbba01c24b0477d82eefd9be54eeee4",
       "IPY_MODEL_63c4bd9ec22f48afaeb7dcf5bb69d189"
      ],
      "layout": "IPY_MODEL_06a97f85094a40c8903db2db99e49a9b"
     }
    },
    "a65819d11d5b4bd3beab6eb5c59eba4c": {
     "model_module": "@jupyter-widgets/controls",
     "model_name": "HBoxModel",
     "state": {
      "_dom_classes": [],
      "_model_module": "@jupyter-widgets/controls",
      "_model_module_version": "1.5.0",
      "_model_name": "HBoxModel",
      "_view_count": null,
      "_view_module": "@jupyter-widgets/controls",
      "_view_module_version": "1.5.0",
      "_view_name": "HBoxView",
      "box_style": "",
      "children": [
       "IPY_MODEL_b06232123a404db9a56460f7d0e9a67d",
       "IPY_MODEL_55264ff64c2942f5ad018a355a4ecaac"
      ],
      "layout": "IPY_MODEL_2c99f708b0ca430e954164904f7a0ee6"
     }
    },
    "b163a01d9f7145c3b5d2c69ccc0348ce": {
     "model_module": "@jupyter-widgets/controls",
     "model_name": "HBoxModel",
     "state": {
      "_dom_classes": [],
      "_model_module": "@jupyter-widgets/controls",
      "_model_module_version": "1.5.0",
      "_model_name": "HBoxModel",
      "_view_count": null,
      "_view_module": "@jupyter-widgets/controls",
      "_view_module_version": "1.5.0",
      "_view_name": "HBoxView",
      "box_style": "",
      "children": [
       "IPY_MODEL_840ac4ad3a3f4124913e313627e8b4d6",
       "IPY_MODEL_890574eb98ac40728150cad5793f23e4"
      ],
      "layout": "IPY_MODEL_86420c72ce8b4a919c1928535d196e82"
     }
    },
    "b9b12027714943dbb63bf919cba13614": {
     "model_module": "@jupyter-widgets/controls",
     "model_name": "HBoxModel",
     "state": {
      "_dom_classes": [],
      "_model_module": "@jupyter-widgets/controls",
      "_model_module_version": "1.5.0",
      "_model_name": "HBoxModel",
      "_view_count": null,
      "_view_module": "@jupyter-widgets/controls",
      "_view_module_version": "1.5.0",
      "_view_name": "HBoxView",
      "box_style": "",
      "children": [
       "IPY_MODEL_f3cbae65857d4e128f953375f4bcd640",
       "IPY_MODEL_025fa582adf84a06866ead493271532b"
      ],
      "layout": "IPY_MODEL_7c8adb356990496080969fa610b8c90a"
     }
    },
    "bd31edcc262f43aca2c3654365a3b172": {
     "model_module": "@jupyter-widgets/controls",
     "model_name": "HBoxModel",
     "state": {
      "_dom_classes": [],
      "_model_module": "@jupyter-widgets/controls",
      "_model_module_version": "1.5.0",
      "_model_name": "HBoxModel",
      "_view_count": null,
      "_view_module": "@jupyter-widgets/controls",
      "_view_module_version": "1.5.0",
      "_view_name": "HBoxView",
      "box_style": "",
      "children": [
       "IPY_MODEL_a7e942f171094ab1a69a9f02c3923c13",
       "IPY_MODEL_6719308efd204b579f43975328f8eac1"
      ],
      "layout": "IPY_MODEL_3de68738a1a343418ad5582d5eb61219"
     }
    },
    "cfc070694a25429fa657ef96bd4bd04d": {
     "model_module": "@jupyter-widgets/controls",
     "model_name": "HBoxModel",
     "state": {
      "_dom_classes": [],
      "_model_module": "@jupyter-widgets/controls",
      "_model_module_version": "1.5.0",
      "_model_name": "HBoxModel",
      "_view_count": null,
      "_view_module": "@jupyter-widgets/controls",
      "_view_module_version": "1.5.0",
      "_view_name": "HBoxView",
      "box_style": "",
      "children": [
       "IPY_MODEL_1e1e2ce502444f1fba5d233d2a6b813b",
       "IPY_MODEL_70d8f2ea195b43c8b2280382cbc0b547"
      ],
      "layout": "IPY_MODEL_63861258191c4e17a1eb125010e938a8"
     }
    },
    "e3131bfc24404d5a9b293e2b094fc749": {
     "model_module": "@jupyter-widgets/controls",
     "model_name": "HBoxModel",
     "state": {
      "_dom_classes": [],
      "_model_module": "@jupyter-widgets/controls",
      "_model_module_version": "1.5.0",
      "_model_name": "HBoxModel",
      "_view_count": null,
      "_view_module": "@jupyter-widgets/controls",
      "_view_module_version": "1.5.0",
      "_view_name": "HBoxView",
      "box_style": "",
      "children": [
       "IPY_MODEL_38d2ddf203524775a046dcbb4fbf1d9d",
       "IPY_MODEL_5003cd2a52164a28992c8c3e0c14bc95"
      ],
      "layout": "IPY_MODEL_17a112df098741de9b7992f23341cfd2"
     }
    },
    "e3ffabd05b9a429b9f787366f39a4ac5": {
     "model_module": "@jupyter-widgets/controls",
     "model_name": "HBoxModel",
     "state": {
      "_dom_classes": [],
      "_model_module": "@jupyter-widgets/controls",
      "_model_module_version": "1.5.0",
      "_model_name": "HBoxModel",
      "_view_count": null,
      "_view_module": "@jupyter-widgets/controls",
      "_view_module_version": "1.5.0",
      "_view_name": "HBoxView",
      "box_style": "",
      "children": [
       "IPY_MODEL_170344ef90384cd8a9fae1491df89b18",
       "IPY_MODEL_2949b04f6a5c4e7695b48a0120915484"
      ],
      "layout": "IPY_MODEL_b7f7f31945254655ac20a2657400085f"
     }
    },
    "f4211fb857534abe8fc1bd7f9cbb5009": {
     "model_module": "@jupyter-widgets/controls",
     "model_name": "HBoxModel",
     "state": {
      "_dom_classes": [],
      "_model_module": "@jupyter-widgets/controls",
      "_model_module_version": "1.5.0",
      "_model_name": "HBoxModel",
      "_view_count": null,
      "_view_module": "@jupyter-widgets/controls",
      "_view_module_version": "1.5.0",
      "_view_name": "HBoxView",
      "box_style": "",
      "children": [
       "IPY_MODEL_79dce0a483904c96b7903e11f4206a6c",
       "IPY_MODEL_ad79d09360184e72a41db82be4148938"
      ],
      "layout": "IPY_MODEL_a4f46af323324b95a8c873f7803b7ced"
     }
    },
    "f8e2bfd4c4094a7caa32db34d5b76c75": {
     "model_module": "@jupyter-widgets/controls",
     "model_name": "HBoxModel",
     "state": {
      "_dom_classes": [],
      "_model_module": "@jupyter-widgets/controls",
      "_model_module_version": "1.5.0",
      "_model_name": "HBoxModel",
      "_view_count": null,
      "_view_module": "@jupyter-widgets/controls",
      "_view_module_version": "1.5.0",
      "_view_name": "HBoxView",
      "box_style": "",
      "children": [
       "IPY_MODEL_958d6ac74e9e4ee69a627b16f6df2d0d",
       "IPY_MODEL_17d8d8a719f14fb893cb94ffae305c79"
      ],
      "layout": "IPY_MODEL_df3ef1e5c1b542408033c6d665a94c9b"
     }
    }
   }
  }
 },
 "nbformat": 4,
 "nbformat_minor": 1
}
