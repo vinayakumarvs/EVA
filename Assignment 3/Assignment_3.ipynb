{
  "nbformat": 4,
  "nbformat_minor": 0,
  "metadata": {
    "colab": {
      "name": "Assignment 3.ipynb",
      "version": "0.3.2",
      "provenance": [],
      "collapsed_sections": []
    },
    "kernelspec": {
      "name": "python3",
      "display_name": "Python 3"
    },
    "accelerator": "GPU"
  },
  "cells": [
    {
      "cell_type": "markdown",
      "metadata": {
        "id": "sORku0elVryQ",
        "colab_type": "text"
      },
      "source": [
        "# Assignment 3"
      ]
    },
    {
      "cell_type": "code",
      "metadata": {
        "id": "PKuy8ewdr9HF",
        "colab_type": "code",
        "outputId": "bbbba4ca-1b5a-4583-c6fa-30fd6bcef061",
        "colab": {
          "base_uri": "https://localhost:8080/",
          "height": 34
        }
      },
      "source": [
        "!pip install -q Keras #Update Keras Package Directly in Python Notebook\n",
        "import keras #Import Keras Package to use further for Deep Learning"
      ],
      "execution_count": 0,
      "outputs": [
        {
          "output_type": "stream",
          "text": [
            "Using TensorFlow backend.\n"
          ],
          "name": "stderr"
        }
      ]
    },
    {
      "cell_type": "code",
      "metadata": {
        "id": "_ZOkxQJ5s24s",
        "colab_type": "code",
        "colab": {}
      },
      "source": [
        "import numpy as np #Giving np as an alias to numpy to use the shortened name further\n",
        "from keras.models import Sequential #Import Sequential from keras to create a model layer by layer. The Sequential is inherited from Keras models\n",
        "from keras.layers import Flatten #Import Flatten which is inherited from Keras layers. Flatten helps to unroll the values from beginning to last\n",
        "from keras.layers import Convolution2D #Import Convolution2D inherited from Keras layers. Usefull to filter the layers of 2D Images\n",
        "from keras.utils import np_utils #Import np_utils inherited from Keras utils. Helps to conver array to a binary one hot vector\n",
        "from keras.datasets import mnist #Import the mnist Dataset from Keras Database. mnist is a handwritten digit database"
      ],
      "execution_count": 0,
      "outputs": []
    },
    {
      "cell_type": "code",
      "metadata": {
        "id": "f-ve0wiOteKy",
        "colab_type": "code",
        "outputId": "de45973f-5456-443a-f89b-b37938059a6e",
        "colab": {
          "base_uri": "https://localhost:8080/",
          "height": 50
        }
      },
      "source": [
        "(X_train, y_train), (X_test, y_test) = mnist.load_data() #Download mnist dataset and Assign Input, Output Variables for Train and Test datasets"
      ],
      "execution_count": 0,
      "outputs": [
        {
          "output_type": "stream",
          "text": [
            "Downloading data from https://s3.amazonaws.com/img-datasets/mnist.npz\n",
            "11493376/11490434 [==============================] - 1s 0us/step\n"
          ],
          "name": "stdout"
        }
      ]
    },
    {
      "cell_type": "code",
      "metadata": {
        "id": "ymkdsYjmt-dk",
        "colab_type": "code",
        "outputId": "91008acd-e8bc-4155-f7fa-a73f8540b8cc",
        "colab": {
          "base_uri": "https://localhost:8080/",
          "height": 302
        }
      },
      "source": [
        "print(X_train.shape)#Print the shape/Dimension of input variables of the Train dataset\n",
        "from matplotlib import pyplot as plt#Import pyplot inherited from matplotlib and give alias as plt. This will help us to plot and visulaise charts\n",
        "%matplotlib inline \n",
        "plt.imshow(X_train[0])"
      ],
      "execution_count": 0,
      "outputs": [
        {
          "output_type": "stream",
          "text": [
            "(60000, 28, 28)\n"
          ],
          "name": "stdout"
        },
        {
          "output_type": "execute_result",
          "data": {
            "text/plain": [
              "<matplotlib.image.AxesImage at 0x7f20d2534160>"
            ]
          },
          "metadata": {
            "tags": []
          },
          "execution_count": 4
        },
        {
          "output_type": "display_data",
          "data": {
            "image/png": "[encoded data removed]",
            "text/plain": [
              "<Figure size 432x288 with 1 Axes>"
            ]
          },
          "metadata": {
            "tags": []
          }
        }
      ]
    },
    {
      "cell_type": "code",
      "metadata": {
        "id": "vU-TJ8p0umvr",
        "colab_type": "code",
        "colab": {}
      },
      "source": [
        "X_train = X_train.reshape(X_train.shape[0],28,28,1) #Shape of train dataframe with 1st Dimension(Depth) and 28*28 Matrix with 1 feature\n",
        "X_test = X_test.reshape(X_test.shape[0],28,28,1)#Shape of test dataframe with 1st Dimension(Depth) and 28*28 Matrix with 1 feature"
      ],
      "execution_count": 0,
      "outputs": []
    },
    {
      "cell_type": "code",
      "metadata": {
        "id": "qWG_1VDQygPX",
        "colab_type": "code",
        "colab": {}
      },
      "source": [
        "X_train = X_train.astype('float32') #Change the data type to float\n",
        "X_test = X_test.astype('float32') #Change the data type to float\n",
        "X_train /= 255  # Normalise the data values to a range of [0,1]\n",
        "X_test /= 255 # Normalise the data values to a range of [0,1]\n"
      ],
      "execution_count": 0,
      "outputs": []
    },
    {
      "cell_type": "code",
      "metadata": {
        "id": "L14-iTnAykmD",
        "colab_type": "code",
        "outputId": "ec514fd1-820b-43ef-8ef2-3229f31927dd",
        "colab": {
          "base_uri": "https://localhost:8080/",
          "height": 34
        }
      },
      "source": [
        "y_train[:10] #First 10 elements of one dimensional y_train array"
      ],
      "execution_count": 0,
      "outputs": [
        {
          "output_type": "execute_result",
          "data": {
            "text/plain": [
              "array([5, 0, 4, 1, 9, 2, 1, 3, 1, 4], dtype=uint8)"
            ]
          },
          "metadata": {
            "tags": []
          },
          "execution_count": 7
        }
      ]
    },
    {
      "cell_type": "code",
      "metadata": {
        "id": "T53mbc4zyn50",
        "colab_type": "code",
        "colab": {}
      },
      "source": [
        "# Convert 1-dimensional class arrays to 10-dimensional class matrices\n",
        "Y_train = np_utils.to_categorical(y_train, 10)\n",
        "Y_test = np_utils.to_categorical(y_test, 10)"
      ],
      "execution_count": 0,
      "outputs": []
    },
    {
      "cell_type": "code",
      "metadata": {
        "id": "xGjQ2ix3yo68",
        "colab_type": "code",
        "outputId": "6948eb2e-7e31-41b5-d1e7-2be7d4a9ef09",
        "colab": {
          "base_uri": "https://localhost:8080/",
          "height": 185
        }
      },
      "source": [
        "Y_train[:10] #First 10 elements of 10 dimensional class array of Y_train"
      ],
      "execution_count": 0,
      "outputs": [
        {
          "output_type": "execute_result",
          "data": {
            "text/plain": [
              "array([[0., 0., 0., 0., 0., 1., 0., 0., 0., 0.],\n",
              "       [1., 0., 0., 0., 0., 0., 0., 0., 0., 0.],\n",
              "       [0., 0., 0., 0., 1., 0., 0., 0., 0., 0.],\n",
              "       [0., 1., 0., 0., 0., 0., 0., 0., 0., 0.],\n",
              "       [0., 0., 0., 0., 0., 0., 0., 0., 0., 1.],\n",
              "       [0., 0., 1., 0., 0., 0., 0., 0., 0., 0.],\n",
              "       [0., 1., 0., 0., 0., 0., 0., 0., 0., 0.],\n",
              "       [0., 0., 0., 1., 0., 0., 0., 0., 0., 0.],\n",
              "       [0., 1., 0., 0., 0., 0., 0., 0., 0., 0.],\n",
              "       [0., 0., 0., 0., 1., 0., 0., 0., 0., 0.]], dtype=float32)"
            ]
          },
          "metadata": {
            "tags": []
          },
          "execution_count": 9
        }
      ]
    },
    {
      "cell_type": "code",
      "metadata": {
        "id": "8VvE0ICeysZ4",
        "colab_type": "code",
        "outputId": "88dfb8e4-a1a4-4fa3-9a3f-af9250d0a5e5",
        "colab": {
          "base_uri": "https://localhost:8080/",
          "height": 910
        }
      },
      "source": [
        "from keras.layers import Activation, BatchNormalization, Dropout, MaxPooling2D\n",
        "model = Sequential()\n",
        "\n",
        " \n",
        "model.add(Convolution2D(16, 3,3, activation='relu', input_shape=(28,28,1))) #Layer1 Apply 16 3*3 Filters with Relu Activation \n",
        "model.add(Convolution2D(10, 3,3, activation='relu')) #Layer2 Apply 10 3*3 Filters with Relu Activation\n",
        "model.add(BatchNormalization()) #Applying BatchNormalization \n",
        "model.add(MaxPooling2D(2,2)) #Pooling Layer1 MaxPooling to reduce the parameters\n",
        "model.add(Dropout(.20)) #Using Dropout to drop 20% of the features randomly\n",
        "\n",
        "model.add(Convolution2D(16, 3,3, activation='relu')) #Layer3 Applying 16 3*3 Filters with Relu Activation\n",
        "model.add(Convolution2D(10, 3,3, activation='relu')) #Layer4 Applying 10 3*3 Filters with Relu Activation\n",
        "model.add(BatchNormalization())#Applying BatchNormalization \n",
        "model.add(MaxPooling2D(2,2))#Pooling Layer2 MaxPooling to reduce the parameters\n",
        "model.add(Dropout(.30))#Using Dropout to drop 30% of the features randomly\n",
        "\n",
        "model.add(Convolution2D(10, 3,3, activation='relu'))#Layer5 Applying 10 3*3 Filters with Relu Activation\n",
        "model.add(Convolution2D(10, 1, activation='relu'))#Layer6 Applying 10 1*1 Filter with Relu Activation\n",
        "model.add(Convolution2D(10, 2)) #output Layer 10 2*2 Filters\n",
        "model.add(Flatten()) #Flatten the complete layer\n",
        "model.add(Activation('softmax')) #Activate and apply softmax to identify the probability of the identified channels in train or image\n",
        "\n",
        "model.summary() #Gives you model summary"
      ],
      "execution_count": 0,
      "outputs": [
        {
          "output_type": "stream",
          "text": [
            "WARNING:tensorflow:From /usr/local/lib/python3.6/dist-packages/tensorflow/python/framework/op_def_library.py:263: colocate_with (from tensorflow.python.framework.ops) is deprecated and will be removed in a future version.\n",
            "Instructions for updating:\n",
            "Colocations handled automatically by placer.\n"
          ],
          "name": "stdout"
        },
        {
          "output_type": "stream",
          "text": [
            "/usr/local/lib/python3.6/dist-packages/ipykernel_launcher.py:5: UserWarning: Update your `Conv2D` call to the Keras 2 API: `Conv2D(16, (3, 3), activation=\"relu\", input_shape=(28, 28, 1...)`\n",
            "  \"\"\"\n",
            "/usr/local/lib/python3.6/dist-packages/ipykernel_launcher.py:6: UserWarning: Update your `Conv2D` call to the Keras 2 API: `Conv2D(10, (3, 3), activation=\"relu\")`\n",
            "  \n"
          ],
          "name": "stderr"
        },
        {
          "output_type": "stream",
          "text": [
            "WARNING:tensorflow:From /usr/local/lib/python3.6/dist-packages/keras/backend/tensorflow_backend.py:3445: calling dropout (from tensorflow.python.ops.nn_ops) with keep_prob is deprecated and will be removed in a future version.\n",
            "Instructions for updating:\n",
            "Please use `rate` instead of `keep_prob`. Rate should be set to `rate = 1 - keep_prob`.\n",
            "_________________________________________________________________\n",
            "Layer (type)                 Output Shape              Param #   \n",
            "=================================================================\n",
            "conv2d_1 (Conv2D)            (None, 26, 26, 16)        160       \n",
            "_________________________________________________________________\n",
            "conv2d_2 (Conv2D)            (None, 24, 24, 10)        1450      \n",
            "_________________________________________________________________\n",
            "batch_normalization_1 (Batch (None, 24, 24, 10)        40        \n",
            "_________________________________________________________________\n",
            "max_pooling2d_1 (MaxPooling2 (None, 12, 12, 10)        0         \n",
            "_________________________________________________________________\n",
            "dropout_1 (Dropout)          (None, 12, 12, 10)        0         \n",
            "_________________________________________________________________\n",
            "conv2d_3 (Conv2D)            (None, 10, 10, 16)        1456      \n",
            "_________________________________________________________________\n",
            "conv2d_4 (Conv2D)            (None, 8, 8, 10)          1450      \n",
            "_________________________________________________________________\n",
            "batch_normalization_2 (Batch (None, 8, 8, 10)          40        \n",
            "_________________________________________________________________\n",
            "max_pooling2d_2 (MaxPooling2 (None, 4, 4, 10)          0         \n",
            "_________________________________________________________________\n",
            "dropout_2 (Dropout)          (None, 4, 4, 10)          0         \n",
            "_________________________________________________________________\n",
            "conv2d_5 (Conv2D)            (None, 2, 2, 10)          910       \n",
            "_________________________________________________________________\n",
            "conv2d_6 (Conv2D)            (None, 2, 2, 10)          110       \n",
            "_________________________________________________________________\n",
            "conv2d_7 (Conv2D)            (None, 1, 1, 10)          410       \n",
            "_________________________________________________________________\n",
            "flatten_1 (Flatten)          (None, 10)                0         \n",
            "_________________________________________________________________\n",
            "activation_1 (Activation)    (None, 10)                0         \n",
            "=================================================================\n",
            "Total params: 6,026\n",
            "Trainable params: 5,986\n",
            "Non-trainable params: 40\n",
            "_________________________________________________________________\n"
          ],
          "name": "stdout"
        },
        {
          "output_type": "stream",
          "text": [
            "/usr/local/lib/python3.6/dist-packages/ipykernel_launcher.py:11: UserWarning: Update your `Conv2D` call to the Keras 2 API: `Conv2D(16, (3, 3), activation=\"relu\")`\n",
            "  # This is added back by InteractiveShellApp.init_path()\n",
            "/usr/local/lib/python3.6/dist-packages/ipykernel_launcher.py:12: UserWarning: Update your `Conv2D` call to the Keras 2 API: `Conv2D(10, (3, 3), activation=\"relu\")`\n",
            "  if sys.path[0] == '':\n",
            "/usr/local/lib/python3.6/dist-packages/ipykernel_launcher.py:17: UserWarning: Update your `Conv2D` call to the Keras 2 API: `Conv2D(10, (3, 3), activation=\"relu\")`\n"
          ],
          "name": "stderr"
        }
      ]
    },
    {
      "cell_type": "code",
      "metadata": {
        "id": "RQCcbGcKyyf8",
        "colab_type": "code",
        "colab": {}
      },
      "source": [
        "model.compile(loss='categorical_crossentropy', #Since we have one hot encoding here. We are using categorical cross entropy to calculate the loss function\n",
        "             optimizer='adam', #Using adam optimiser as we require step wise optimiser in our excercise here\n",
        "             metrics=['accuracy']) # Gives us an accuracy of the model"
      ],
      "execution_count": 0,
      "outputs": []
    },
    {
      "cell_type": "code",
      "metadata": {
        "id": "kPLefR7yy2Ps",
        "colab_type": "code",
        "outputId": "b1d8edcd-56a5-4f45-e133-2c343f51a732",
        "colab": {
          "base_uri": "https://localhost:8080/",
          "height": 1146
        }
      },
      "source": [
        "model.fit(X_train, Y_train, batch_size=1028, nb_epoch=30, verbose=1) #Fit model using the first argument as an numpy array for training data. Second argument as numpy array of test data. with batch size of 32 of 10 iterations with progressive bar per epoch"
      ],
      "execution_count": 0,
      "outputs": [
        {
          "output_type": "stream",
          "text": [
            "WARNING:tensorflow:From /usr/local/lib/python3.6/dist-packages/tensorflow/python/ops/math_ops.py:3066: to_int32 (from tensorflow.python.ops.math_ops) is deprecated and will be removed in a future version.\n",
            "Instructions for updating:\n",
            "Use tf.cast instead.\n"
          ],
          "name": "stdout"
        },
        {
          "output_type": "stream",
          "text": [
            "/usr/local/lib/python3.6/dist-packages/ipykernel_launcher.py:1: UserWarning: The `nb_epoch` argument in `fit` has been renamed `epochs`.\n",
            "  \"\"\"Entry point for launching an IPython kernel.\n"
          ],
          "name": "stderr"
        },
        {
          "output_type": "stream",
          "text": [
            "Epoch 1/30\n",
            "60000/60000 [==============================] - 5s 86us/step - loss: 1.7636 - acc: 0.4006\n",
            "Epoch 2/30\n",
            "60000/60000 [==============================] - 1s 21us/step - loss: 0.7507 - acc: 0.7655\n",
            "Epoch 3/30\n",
            "60000/60000 [==============================] - 1s 20us/step - loss: 0.3861 - acc: 0.8788\n",
            "Epoch 4/30\n",
            "60000/60000 [==============================] - 1s 20us/step - loss: 0.2637 - acc: 0.9178\n",
            "Epoch 5/30\n",
            "60000/60000 [==============================] - 1s 20us/step - loss: 0.2020 - acc: 0.9373\n",
            "Epoch 6/30\n",
            "60000/60000 [==============================] - 1s 20us/step - loss: 0.1690 - acc: 0.9470\n",
            "Epoch 7/30\n",
            "60000/60000 [==============================] - 1s 21us/step - loss: 0.1470 - acc: 0.9548\n",
            "Epoch 8/30\n",
            "60000/60000 [==============================] - 1s 20us/step - loss: 0.1321 - acc: 0.9589\n",
            "Epoch 9/30\n",
            "60000/60000 [==============================] - 1s 20us/step - loss: 0.1213 - acc: 0.9625\n",
            "Epoch 10/30\n",
            "60000/60000 [==============================] - 1s 20us/step - loss: 0.1127 - acc: 0.9645\n",
            "Epoch 11/30\n",
            "60000/60000 [==============================] - 1s 20us/step - loss: 0.1042 - acc: 0.9670\n",
            "Epoch 12/30\n",
            "60000/60000 [==============================] - 1s 20us/step - loss: 0.0976 - acc: 0.9691\n",
            "Epoch 13/30\n",
            "60000/60000 [==============================] - 1s 20us/step - loss: 0.0913 - acc: 0.9714\n",
            "Epoch 14/30\n",
            "60000/60000 [==============================] - 1s 20us/step - loss: 0.0871 - acc: 0.9726\n",
            "Epoch 15/30\n",
            "60000/60000 [==============================] - 1s 21us/step - loss: 0.0838 - acc: 0.9736\n",
            "Epoch 16/30\n",
            "60000/60000 [==============================] - 1s 21us/step - loss: 0.0819 - acc: 0.9739\n",
            "Epoch 17/30\n",
            "60000/60000 [==============================] - 1s 21us/step - loss: 0.0762 - acc: 0.9756\n",
            "Epoch 18/30\n",
            "60000/60000 [==============================] - 1s 21us/step - loss: 0.0756 - acc: 0.9764\n",
            "Epoch 19/30\n",
            "60000/60000 [==============================] - 1s 21us/step - loss: 0.0711 - acc: 0.9777\n",
            "Epoch 20/30\n",
            "60000/60000 [==============================] - 1s 21us/step - loss: 0.0709 - acc: 0.9778\n",
            "Epoch 21/30\n",
            "60000/60000 [==============================] - 1s 21us/step - loss: 0.0683 - acc: 0.9789\n",
            "Epoch 22/30\n",
            "60000/60000 [==============================] - 1s 21us/step - loss: 0.0676 - acc: 0.9790\n",
            "Epoch 23/30\n",
            "60000/60000 [==============================] - 1s 20us/step - loss: 0.0621 - acc: 0.9812\n",
            "Epoch 24/30\n",
            "60000/60000 [==============================] - 1s 20us/step - loss: 0.0614 - acc: 0.9807\n",
            "Epoch 25/30\n",
            "60000/60000 [==============================] - 1s 20us/step - loss: 0.0612 - acc: 0.9807\n",
            "Epoch 26/30\n",
            "60000/60000 [==============================] - 1s 20us/step - loss: 0.0604 - acc: 0.9808\n",
            "Epoch 27/30\n",
            "60000/60000 [==============================] - 1s 20us/step - loss: 0.0595 - acc: 0.9814\n",
            "Epoch 28/30\n",
            "60000/60000 [==============================] - 1s 20us/step - loss: 0.0580 - acc: 0.9812\n",
            "Epoch 29/30\n",
            "60000/60000 [==============================] - 1s 20us/step - loss: 0.0549 - acc: 0.9832\n",
            "Epoch 30/30\n",
            "60000/60000 [==============================] - 1s 20us/step - loss: 0.0559 - acc: 0.9829\n"
          ],
          "name": "stdout"
        },
        {
          "output_type": "execute_result",
          "data": {
            "text/plain": [
              "<keras.callbacks.History at 0x7f20d2534668>"
            ]
          },
          "metadata": {
            "tags": []
          },
          "execution_count": 12
        }
      ]
    },
    {
      "cell_type": "code",
      "metadata": {
        "id": "EGZDpZ_Jy5CB",
        "colab_type": "code",
        "colab": {}
      },
      "source": [
        "score = model.evaluate(X_test, Y_test, verbose=0) #Evaluate the model on test data "
      ],
      "execution_count": 0,
      "outputs": []
    },
    {
      "cell_type": "code",
      "metadata": {
        "id": "g_7mK8gey9qF",
        "colab_type": "code",
        "outputId": "afd39593-6306-4c5b-b2d9-c23abfcb459c",
        "colab": {
          "base_uri": "https://localhost:8080/",
          "height": 34
        }
      },
      "source": [
        "print(score) #Print the Evaluation score"
      ],
      "execution_count": 0,
      "outputs": [
        {
          "output_type": "stream",
          "text": [
            "[0.030900418920355152, 0.9901]\n"
          ],
          "name": "stdout"
        }
      ]
    },
    {
      "cell_type": "code",
      "metadata": {
        "id": "UhNZg3L_zAsG",
        "colab_type": "code",
        "colab": {}
      },
      "source": [
        "y_pred = model.predict(X_test) #Predict on the Test data"
      ],
      "execution_count": 0,
      "outputs": []
    },
    {
      "cell_type": "code",
      "metadata": {
        "id": "HNafdMtPzDRb",
        "colab_type": "code",
        "outputId": "78a96239-121e-467f-abb2-f777cf1dfc5f",
        "colab": {
          "base_uri": "https://localhost:8080/",
          "height": 185
        }
      },
      "source": [
        "print(y_pred[:9]) #Print Predicted Values\n",
        "print(y_test[:9]) #Print Actual Values"
      ],
      "execution_count": 0,
      "outputs": [
        {
          "output_type": "stream",
          "text": [
            "[[0.1 0.1 0.1 0.1 0.1 0.1 0.1 0.1 0.1 0.1]\n",
            " [0.1 0.1 0.1 0.1 0.1 0.1 0.1 0.1 0.1 0.1]\n",
            " [0.1 0.1 0.1 0.1 0.1 0.1 0.1 0.1 0.1 0.1]\n",
            " [0.1 0.1 0.1 0.1 0.1 0.1 0.1 0.1 0.1 0.1]\n",
            " [0.1 0.1 0.1 0.1 0.1 0.1 0.1 0.1 0.1 0.1]\n",
            " [0.1 0.1 0.1 0.1 0.1 0.1 0.1 0.1 0.1 0.1]\n",
            " [0.1 0.1 0.1 0.1 0.1 0.1 0.1 0.1 0.1 0.1]\n",
            " [0.1 0.1 0.1 0.1 0.1 0.1 0.1 0.1 0.1 0.1]\n",
            " [0.1 0.1 0.1 0.1 0.1 0.1 0.1 0.1 0.1 0.1]]\n",
            "[7 2 1 0 4 1 4 9 5]\n"
          ],
          "name": "stdout"
        }
      ]
    },
    {
      "cell_type": "markdown",
      "metadata": {
        "id": "zFAypRoYD0G2",
        "colab_type": "text"
      },
      "source": [
        "What is wrong with this model?\n",
        "\n",
        "Ans: 1. The processing time taking for this one is more as we are using 25,348,362 parameters and the accuracy of the model is also low."
      ]
    }
  ]
}