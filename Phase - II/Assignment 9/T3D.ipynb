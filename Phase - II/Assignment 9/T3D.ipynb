{
  "nbformat": 4,
  "nbformat_minor": 0,
  "metadata": {
    "colab": {
      "name": "T3D.ipynb",
      "provenance": [],
      "collapsed_sections": []
    },
    "kernelspec": {
      "name": "python3",
      "display_name": "Python 3"
    }
  },
  "cells": [
    {
      "cell_type": "markdown",
      "metadata": {
        "id": "56otZfRCSYB6",
        "colab_type": "text"
      },
      "source": [
        "# **T3D** **Program** **Understanding**"
      ]
    },
    {
      "cell_type": "markdown",
      "metadata": {
        "id": "bbPXlymjSPNZ",
        "colab_type": "text"
      },
      "source": [
        "# Initialisation"
      ]
    },
    {
      "cell_type": "code",
      "metadata": {
        "id": "9wsynjqXCXhp",
        "colab_type": "code",
        "colab": {}
      },
      "source": [
        "import os\n",
        "import time\n",
        "import random\n",
        "import numpy as np\n",
        "import matplotlib.pyplot as plt\n",
        "import pybullet_envs\n",
        "import gym\n",
        "import torch\n",
        "import torch.nn as nn\n",
        "import torch.nn.functional as F\n",
        "from gym import wrappers\n",
        "from torch.autograd import Variable\n",
        "from collections import deque"
      ],
      "execution_count": 0,
      "outputs": []
    },
    {
      "cell_type": "markdown",
      "metadata": {
        "id": "okoAcbRUS24M",
        "colab_type": "text"
      },
      "source": [
        "## Initialize the Experience Replay Memory with a size of 1e6. Then populate it with new transitions"
      ]
    },
    {
      "cell_type": "code",
      "metadata": {
        "id": "a05S3p_zFDSA",
        "colab_type": "code",
        "colab": {}
      },
      "source": [
        "class ReplayBuffer(object):\n",
        "  def __init__(self, max_size = 1e6):\n",
        "    self.storage = []\n",
        "    self.max_size = max_size\n",
        "    self.ptr = 0\n",
        "\n",
        "  def add(self, transition):\n",
        "    if len(self.storage) == self.max_size:\n",
        "      self.storage[int(self.ptr)] = transition\n",
        "      self.ptr = (self.ptr + 1) % self.max_size\n",
        "    else:\n",
        "      self.storage.append(transition)\n",
        "  \n",
        "\n",
        "  def sample(self, batch_size):\n",
        "    ind = np.random.randint(0, len(self.storage), batch_size)\n",
        "    batch_states, batch_next_states, batch_actions, batch_rewards, batch_dones = [], [], [], []\n",
        "\n",
        "    for i in ind:\n",
        "      state, next_state, action, reward, done = self.storage[i]\n",
        "      batch_states.append(np.array(state, copy= False))\n",
        "      batch_next_states.append(np.array(next_state, copy = False))\n",
        "      batch_actions.append(np.array(action, copy = False))\n",
        "      batch_rewards.append(np.array(reward, copy = False))\n",
        "      batch_dones.append(np.array(done, copy = False))\n",
        "    return np.array(batch_states), np.array(batch_next_states), np.array(batch_actions), np.array(batch_rewards).reshape(-1,1), np.array(batch_dones).reshape(-1,1)\n"
      ],
      "execution_count": 0,
      "outputs": []
    },
    {
      "cell_type": "markdown",
      "metadata": {
        "id": "_JSLXghBTAXq",
        "colab_type": "text"
      },
      "source": [
        "## Build one DNN for the Actor model and one for Actor Target"
      ]
    },
    {
      "cell_type": "code",
      "metadata": {
        "id": "4kthG141Ioav",
        "colab_type": "code",
        "colab": {}
      },
      "source": [
        "class Actor(nn.Module):\n",
        "\n",
        "  def __init__(self, state_dims, action_dim, max_action):\n",
        "    #max_action is to clip if we add too much noise\n",
        "    super(Actor, self).__init__() #Activate the inheritance\n",
        "    self.layer_1 = nn.Linear(state_dims, 400)\n",
        "    self.layer_2 = nn.Linear(400, 300)\n",
        "    self.layer_3 = nn.Linear(300, action_dim)\n",
        "    self.max_action = max_action\n",
        "\n",
        "  def forward(self, x):\n",
        "    x = F.relu(self.layer_1(x))\n",
        "    x = F.relu(self.layer_2(x))\n",
        "    x = self.max_action * torch.tanh(self.layer_3(x))\n",
        "    return x\n",
        "\n"
      ],
      "execution_count": 0,
      "outputs": []
    },
    {
      "cell_type": "markdown",
      "metadata": {
        "id": "Yd0HBziOTIvJ",
        "colab_type": "text"
      },
      "source": [
        "## Build two DNNs for the two Critic models and two DNNs for the two Critic Targets"
      ]
    },
    {
      "cell_type": "code",
      "metadata": {
        "id": "8wBu8zBGKD8x",
        "colab_type": "code",
        "colab": {}
      },
      "source": [
        "class Critic(nn.Module):\n",
        "\n",
        "  def __init__(self, state_dims, action_dim):\n",
        "    #max_action is to clip in case we add too much noise\n",
        "    super(Critic, self).__init__() #Activate theinheritance\n",
        "    #First Critic Network\n",
        "    self.layer_1 = nn.Linear(state_dims + action_dim, 400)\n",
        "    self.layer_2 = nn.Linear(400, 300)\n",
        "    self.layer_3 = nn.Linear(300, action_dim)\n",
        "\n",
        "    #Second Critic Network\n",
        "    self.layer_4 = nn.Linear(state_dims + action_dim, 400)\n",
        "    self.layer_5 = nn.Linear(400, 300)\n",
        "    self.layer_6 = nn.Linear(300, action_dim)    \n",
        "\n",
        "  def forward(self, x, u): #x - state, u - action\n",
        "    xu = torch.cat([x,u],1) # 1- Vertical concatenation, 0 - Horizontal Concatenation\n",
        "    # Forward propogation on first critic\n",
        "    x1 = F.relu(self.layer_1(xu))\n",
        "    x1 = F.relu(self.layer_2(x1))\n",
        "    x1 = self.layer_3(x1)\n",
        "    # Forward propagation on second critic\n",
        "    x2 = F.relu(self.layer_4(xu))\n",
        "    x2 = F.relu(self.layer_5(x2))\n",
        "    x2 = self.layer_6(x2)\n",
        "\n",
        "    return x1, x2\n",
        "\n",
        "  def Q1(self, x, u):#x - state, u - action This is used for updating the Q-Values\n",
        "    xu = torch.cat([x,u],1) # 1- Vertical concatenation, 0 - Horizontal Concatenation\n",
        "    x1 = F.relu(self.layer_1(xu))\n",
        "    x1 = F.relu(self.layer_2(x1))\n",
        "    x1 = self.layer_3(x1)\n",
        "    return x1\n",
        "    \n",
        "\n",
        "\n"
      ],
      "execution_count": 0,
      "outputs": []
    },
    {
      "cell_type": "markdown",
      "metadata": {
        "id": "RDrbkdu2TPUb",
        "colab_type": "text"
      },
      "source": [
        "## Training process. Create a T3D class, initialize variables and get ready for step 4"
      ]
    },
    {
      "cell_type": "code",
      "metadata": {
        "id": "xkCF43taM0rd",
        "colab_type": "code",
        "colab": {}
      },
      "source": [
        "#Selecting the device(CPU or GPU)\n",
        "device = torch.device('cuda' if torch.cuda.is_available() else 'cpu')\n",
        "\n",
        "#Building the whole training process into class\n",
        "class T3D(object):\n",
        "  def __init__(self, state_dims, action_dim, max_action):\n",
        "    #Making sure our T3D class can run with any env\n",
        "    self.actor = Actor(state_dims, action_dim, max_action).to(device) #GD\n",
        "    self.actor_target = Actor(state_dims, action_dim, max_action).to(device) #Polyak Avg\n",
        "    self.actor_target.load_state_dict(self.actor.state_dict)\n",
        "    #Intialising with model weights to keep them same\n",
        "    self.actor_optimizer = torch.optim.Adam(self.actor.parameters())\n",
        "\n",
        "    self.critic = Critic(state_dims, action_dim).to(device) #GD\n",
        "    self.critic_target = critic(state_dims, action_dim).to(device) #Polyak Avg\n",
        "    self.critic_target.load_state_dict(self,critic.state_dict)\n",
        "    #Intialising with model weights to keep them same\n",
        "    self.critic_optimizer = torch.optim.Adam(self.critic.parameters())\n",
        "\n",
        "  def select_action(self, state):\n",
        "    state = torch.Tensor(state.reshape(-1,1)).to(device)\n",
        "    return self.actor(state).cpu().data.numpy().flatten()\n",
        "    # Need to convert to numpy, remember clipping?\n"
      ],
      "execution_count": 0,
      "outputs": []
    },
    {
      "cell_type": "markdown",
      "metadata": {
        "id": "hLk7ufjjTYOo",
        "colab_type": "text"
      },
      "source": [
        "## Training the model"
      ]
    },
    {
      "cell_type": "code",
      "metadata": {
        "id": "4cgGGXqHP7Jk",
        "colab_type": "code",
        "colab": {}
      },
      "source": [
        "def train(self, replay_buffer, iterations, batch_size = 100, discount = 0.99,\n",
        "          tau = 0.005, policy_noise = 0.2, noise_clip=0.5, policy_freq=2):\n",
        "  for it in range(iterations):\n",
        "    #Step- 4 We sample from a batch of transitions (s, s', a, r) from memory\n",
        "    batch_states, batch_next_states, batch_actions, batch_rewards, batch_dones = replay_buffer.sample(batch_size)\n",
        "    state = torch.Tensor(batch_states).to(device)\n",
        "    next_state = torch.Tensor(batch_next_states).to(device)\n",
        "    action = torch.Tensor(batch_actions).to(device)\n",
        "    reward = torch.Tensor(batch_rewards).to(device)\n",
        "    done = torch.Tensor(batch_dones).to(device)\n",
        "\n",
        "    #Step - 5: From the next state s', The actor target plays the next actions a'\n",
        "    next_action = self.actor_target.forward(next_state)\n",
        "\n",
        "    #Step - 6: We add Guassian noise to this next action a' and we clamp it in a \n",
        "    # range of values supported by env\n",
        "    noise = torch.Tensor(batch_actions).data.normal_0(0, policy_noise).to(device)\n",
        "    noise = noise.clamp(-noise_clip, noise_clip)\n",
        "    next_action = (next_action + noise).clamp(-self.max_action, self.max_action)\n",
        "\n",
        "    #Step - 7: The two critic targets take each the couple (s', a') as inout and \n",
        "    # return two Q-Values, Qt(s',a') and Qt(s', a') as outputs\n",
        "    target_Q1, target_Q2 = self.critic_target.forward(next_state, next_action)\n",
        "\n",
        "    #Step - 8: we keep min of these two Q-Values\n",
        "    target_Q = torch.min(target_Q1, target_Q2)\n",
        "\n",
        "    #Step - 9: # We get the final target of the two Critic models, which is:\n",
        "          #  Qt = r + gamma * min(Qt1, Qt2)\n",
        "          # target_Q = reward + (1-done) * discount * target_Q\n",
        "          # 0 = episode not over, 1 = episode over\n",
        "          # we can't run the above the equation efficiently as some components are in Computational\n",
        "          # graphs and some are not, We need to make one minor modification\n",
        "    target_Q = reward + ((1 - done) * discount * target_Q).detach()\n",
        "    \n",
        "    #Step - 10: # Two critic models take (s, a) as input and return two Q-Vales\n",
        "    current_Q1, current_Q2 = self.critic.forward(state, action)\n",
        "\n",
        "    #Step - 11: Compute the critic loss\n",
        "    critic_loss = F.mse_loss(current_Q1, target_Q) + F.mse_loss(current_Q2, target_Q)\n",
        "\n",
        "    #Step - 12: We backpropagate this critic loss and update the parameters of two critic\n",
        "    #models with Adam optimiser\n",
        "    self.critic_optimizer.zero.grad() #Initialising the gradient to Zero\n",
        "    critic_loss.backward() #computing the gradients\n",
        "    self.critic_optimizer.step() #Performing the weight update\n",
        "\n",
        "    #Step - 13: Once every two iterations, we update our actor model by performing gradient ascent \n",
        "    # on the ouput of first critic model\n",
        "    if it % policy_freq == 0:\n",
        "      #This is DPG part\n",
        "      actor_loss = -(self.critic.Q1(state, self.actor(state)).mean())\n",
        "      self.actor_optimizer.grad_zero()\n",
        "      actor_loss.backward()\n",
        "      self.actor_optimizer.steo()\n",
        "\n",
        "    #Step - 14: Still once every two iterations, we update the weights of actor target by Polyak avg\n",
        "    for param, target_param in zip(self.actor.parameters(),\n",
        "                                   self.actor_target.parameters()):\n",
        "      target_param.data.copy_(tau * param.data + (1- tau) * target_param.data)\n",
        "\n",
        "    #Step - 15: Still once every two iterations, we update the weights of critic target by Polyak avg\n",
        "    for param, target_param in zip(self.critic.parameters(),\n",
        "                                   self.critic_target.parameters()):\n",
        "      target_param.data.copy_(tau * param.data + (1- tau) * target_param.data)\n",
        "\n",
        "    #T3D is done now\n",
        "\n",
        "\n",
        "\n"
      ],
      "execution_count": 0,
      "outputs": []
    }
  ]
}