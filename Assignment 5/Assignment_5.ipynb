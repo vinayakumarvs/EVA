{
  "nbformat": 4,
  "nbformat_minor": 0,
  "metadata": {
    "colab": {
      "name": "Assignment-5.ipynb",
      "version": "0.3.2",
      "provenance": [],
      "collapsed_sections": []
    },
    "kernelspec": {
      "name": "python3",
      "display_name": "Python 3"
    },
    "accelerator": "GPU"
  },
  "cells": [
    {
      "cell_type": "markdown",
      "metadata": {
        "id": "x-RiHk3Dh0Vq",
        "colab_type": "text"
      },
      "source": [
        "## Reference: 8th code from Session 4.\n",
        "##Applied:\n",
        "\n",
        "1.   Image Normalisation\n",
        "2.   L2 Regularisation\n",
        "3.   Incorporated Relu activation after Batch normalisation\n",
        "\n",
        "##Saved the Model with Best Accuracy to use for Prediction. Created an Image Gallery with false precition class images."
      ]
    },
    {
      "cell_type": "markdown",
      "metadata": {
        "id": "t_ofHqgIQOGW",
        "colab_type": "text"
      },
      "source": [
        "###Import Libraries"
      ]
    },
    {
      "cell_type": "code",
      "metadata": {
        "id": "0SJyVpgSxHt4",
        "colab_type": "code",
        "colab": {}
      },
      "source": [
        "import numpy as np\n",
        "\n",
        "from keras.models import Sequential\n",
        "from keras.layers import Dense, Dropout, Activation, Flatten, Add, BatchNormalization\n",
        "from keras.layers import Convolution2D, MaxPooling2D\n",
        "from keras.utils import np_utils\n",
        "from keras.preprocessing.image import ImageDataGenerator\n",
        "\n",
        "from keras.datasets import mnist"
      ],
      "execution_count": 0,
      "outputs": []
    },
    {
      "cell_type": "markdown",
      "metadata": {
        "id": "P1ocW5fLQdgN",
        "colab_type": "text"
      },
      "source": [
        "###Load Train and Test Data"
      ]
    },
    {
      "cell_type": "code",
      "metadata": {
        "id": "YlEUplvoxKAT",
        "colab_type": "code",
        "colab": {}
      },
      "source": [
        "(X_train, y_train), (X_test, y_test) = mnist.load_data()\n"
      ],
      "execution_count": 0,
      "outputs": []
    },
    {
      "cell_type": "markdown",
      "metadata": {
        "id": "k6EO3T8RQl29",
        "colab_type": "text"
      },
      "source": [
        "###Print Shape of Train Data and First Image"
      ]
    },
    {
      "cell_type": "code",
      "metadata": {
        "id": "I6Y9Va-xxMXG",
        "colab_type": "code",
        "outputId": "811b56d6-5bbf-4e41-dba7-59c6fafeeaa5",
        "colab": {
          "base_uri": "https://localhost:8080/",
          "height": 303
        }
      },
      "source": [
        "print (X_train.shape)\n",
        "from matplotlib import pyplot as plt\n",
        "%matplotlib inline\n",
        "plt.imshow(X_train[1])"
      ],
      "execution_count": 30,
      "outputs": [
        {
          "output_type": "stream",
          "text": [
            "(60000, 28, 28)\n"
          ],
          "name": "stdout"
        },
        {
          "output_type": "execute_result",
          "data": {
            "text/plain": [
              "<matplotlib.image.AxesImage at 0x7f1521a25a90>"
            ]
          },
          "metadata": {
            "tags": []
          },
          "execution_count": 30
        },
        {
          "output_type": "display_data",
          "data": {
            "image/png": "[encoded data removed]",
            "text/plain": [
              "<Figure size 432x288 with 1 Axes>"
            ]
          },
          "metadata": {
            "tags": []
          }
        }
      ]
    },
    {
      "cell_type": "markdown",
      "metadata": {
        "id": "yexzgHZXQuES",
        "colab_type": "text"
      },
      "source": [
        "###Reshape the Data"
      ]
    },
    {
      "cell_type": "code",
      "metadata": {
        "id": "lxDZxPhhxOgO",
        "colab_type": "code",
        "colab": {}
      },
      "source": [
        "X_train = X_train.reshape(X_train.shape[0], 28, 28,1)\n",
        "X_test = X_test.reshape(X_test.shape[0], 28, 28,1)"
      ],
      "execution_count": 0,
      "outputs": []
    },
    {
      "cell_type": "markdown",
      "metadata": {
        "id": "kbHxr9beQ3B4",
        "colab_type": "text"
      },
      "source": [
        "#### Calculate pixel means and standard deviations"
      ]
    },
    {
      "cell_type": "code",
      "metadata": {
        "id": "jy7iAk9c72pA",
        "colab_type": "code",
        "outputId": "11458cff-a991-4e52-926b-ddaafa77e551",
        "colab": {
          "base_uri": "https://localhost:8080/",
          "height": 34
        }
      },
      "source": [
        "print('Statistics train=%.3f (%.3f), test=%.3f (%.3f)' % (X_train.mean(), X_train.std(), X_test.mean(), X_test.std()))"
      ],
      "execution_count": 32,
      "outputs": [
        {
          "output_type": "stream",
          "text": [
            "Statistics train=33.318 (78.567), test=33.791 (79.172)\n"
          ],
          "name": "stdout"
        }
      ]
    },
    {
      "cell_type": "markdown",
      "metadata": {
        "id": "hrxxs9zfgxnu",
        "colab_type": "text"
      },
      "source": [
        "### Apply Image Normalization"
      ]
    },
    {
      "cell_type": "code",
      "metadata": {
        "id": "eAG4YWvX8CzX",
        "colab_type": "code",
        "outputId": "6f86b7e6-505a-4523-d4b0-3e7aba8fe0b5",
        "colab": {
          "base_uri": "https://localhost:8080/",
          "height": 34
        }
      },
      "source": [
        "\n",
        "datamachine = ImageDataGenerator(featurewise_center=True, featurewise_std_normalization=True) # Data Machine that generates the centers of pixel values\n",
        "datamachine.fit(X_train) #Calcuate the Mean of Train Data\n",
        "print('Mean of Data Machine=%.3f, Std Deviation of Data Machine=%.3f' % (datamachine.mean, datamachine.std))"
      ],
      "execution_count": 35,
      "outputs": [
        {
          "output_type": "stream",
          "text": [
            "Mean of Data Machine=33.318, Std Deviation of Data Machine=78.567\n"
          ],
          "name": "stdout"
        }
      ]
    },
    {
      "cell_type": "code",
      "metadata": {
        "id": "W3libyBi8C4O",
        "colab_type": "code",
        "outputId": "198a54d1-a51f-4726-c405-99f0a0c0dd65",
        "colab": {
          "base_uri": "https://localhost:8080/",
          "height": 34
        }
      },
      "source": [
        "iterator = datagen.flow(X_train, y_train, batch_size=64) # Experiement the effect on a single batch of samples\n",
        "batchX, batchy = iterator.next() #Get a next value of batch\n",
        "print((batchX.shape, batchX.mean(), batchX.std())) #Print Shape, Mean and Standard Deviation of the Batch\n"
      ],
      "execution_count": 39,
      "outputs": [
        {
          "output_type": "stream",
          "text": [
            "((64, 28, 28, 1), 0.01904153, 1.020691)\n"
          ],
          "name": "stdout"
        }
      ]
    },
    {
      "cell_type": "code",
      "metadata": {
        "id": "n25m5tOn8C-L",
        "colab_type": "code",
        "outputId": "572cdbcc-fe0f-47a2-d4c4-1de57d62c477",
        "colab": {
          "base_uri": "https://localhost:8080/",
          "height": 34
        }
      },
      "source": [
        "iterator = datagen.flow(X_train, y_train, batch_size=len(X_train), shuffle=False) #Experiement on an entire Training Data\n",
        "batchX, batchy = iterator.next()\n",
        "print(batchX.shape, batchX.mean(), batchX.std()) #Print Shape, Mean and Standard Deviation of the Batch"
      ],
      "execution_count": 40,
      "outputs": [
        {
          "output_type": "stream",
          "text": [
            "(60000, 28, 28, 1) -3.4560264e-07 0.9999998\n"
          ],
          "name": "stdout"
        }
      ]
    },
    {
      "cell_type": "code",
      "metadata": {
        "id": "Qd6EdoJG8DDm",
        "colab_type": "code",
        "outputId": "b40a80b7-0dfa-488a-9672-d3c485d89bd6",
        "colab": {
          "base_uri": "https://localhost:8080/",
          "height": 34
        }
      },
      "source": [
        "print(batchy.shape, batchy.mean(), batchy.std())"
      ],
      "execution_count": 41,
      "outputs": [
        {
          "output_type": "stream",
          "text": [
            "(60000,) 4.4539333333333335 2.889246360020012\n"
          ],
          "name": "stdout"
        }
      ]
    },
    {
      "cell_type": "code",
      "metadata": {
        "id": "7LdYiW6ixR9e",
        "colab_type": "code",
        "colab": {}
      },
      "source": [
        "y_train[:10]\n",
        "Y_train = np_utils.to_categorical(y_train, 10)\n",
        "Y_test = np_utils.to_categorical(y_test, 10)"
      ],
      "execution_count": 0,
      "outputs": []
    },
    {
      "cell_type": "code",
      "metadata": {
        "id": "rFR0F9j0xVp2",
        "colab_type": "code",
        "outputId": "0a4e089f-75fe-4a5b-f668-bcd0fb557e1a",
        "colab": {
          "base_uri": "https://localhost:8080/",
          "height": 187
        }
      },
      "source": [
        "Y_train[:10]"
      ],
      "execution_count": 43,
      "outputs": [
        {
          "output_type": "execute_result",
          "data": {
            "text/plain": [
              "array([[0., 0., 0., 0., 0., 1., 0., 0., 0., 0.],\n",
              "       [1., 0., 0., 0., 0., 0., 0., 0., 0., 0.],\n",
              "       [0., 0., 0., 0., 1., 0., 0., 0., 0., 0.],\n",
              "       [0., 1., 0., 0., 0., 0., 0., 0., 0., 0.],\n",
              "       [0., 0., 0., 0., 0., 0., 0., 0., 0., 1.],\n",
              "       [0., 0., 1., 0., 0., 0., 0., 0., 0., 0.],\n",
              "       [0., 1., 0., 0., 0., 0., 0., 0., 0., 0.],\n",
              "       [0., 0., 0., 1., 0., 0., 0., 0., 0., 0.],\n",
              "       [0., 1., 0., 0., 0., 0., 0., 0., 0., 0.],\n",
              "       [0., 0., 0., 0., 1., 0., 0., 0., 0., 0.]], dtype=float32)"
            ]
          },
          "metadata": {
            "tags": []
          },
          "execution_count": 43
        }
      ]
    },
    {
      "cell_type": "markdown",
      "metadata": {
        "id": "Q20MSSrMg5IA",
        "colab_type": "text"
      },
      "source": [
        "###Network Architecture\n",
        "###Apply L2 Regularization and Relu after Batch Normalization"
      ]
    },
    {
      "cell_type": "code",
      "metadata": {
        "id": "mDpXf4YQxXRm",
        "colab_type": "code",
        "outputId": "de37114a-bc63-4023-893e-4af18c00b49a",
        "colab": {
          "base_uri": "https://localhost:8080/",
          "height": 1431
        }
      },
      "source": [
        "from keras.layers import Activation\n",
        "from keras import regularizers\n",
        "\n",
        "model = Sequential()\n",
        " \n",
        "model.add(Convolution2D(16, 3, 3, kernel_regularizer= regularizers.l2(0.0001),input_shape=(28,28,1))) #26\n",
        "model.add(BatchNormalization())\n",
        "model.add(Activation('relu'))\n",
        "model.add(Dropout(0.1))\n",
        "\n",
        "model.add(Convolution2D(32, 3, 3, kernel_regularizer= regularizers.l2(0.0001))) #24\n",
        "model.add(BatchNormalization())\n",
        "model.add(Activation('relu'))\n",
        "model.add(Dropout(0.1))\n",
        "\n",
        "model.add(Convolution2D(10, 1, 1, activation='relu', kernel_regularizer= regularizers.l2(0.0001))) #22\n",
        "\n",
        "model.add(MaxPooling2D(pool_size=(2, 2)))#11\n",
        "\n",
        "model.add(Convolution2D(16, 3, 3, kernel_regularizer= regularizers.l2(0.0001)))#9\n",
        "model.add(BatchNormalization())\n",
        "model.add(Activation('relu'))\n",
        "model.add(Dropout(0.1))\n",
        "\n",
        "\n",
        "model.add(Convolution2D(16, 3, 3, kernel_regularizer= regularizers.l2(0.0001)))#7\n",
        "model.add(BatchNormalization())\n",
        "model.add(Activation('relu'))\n",
        "model.add(Dropout(0.1))\n",
        "\n",
        "\n",
        "model.add(Convolution2D(16, 3, 3, kernel_regularizer= regularizers.l2(0.0001)))#5\n",
        "model.add(BatchNormalization())\n",
        "model.add(Activation('relu'))\n",
        "model.add(Dropout(0.1))\n",
        "\n",
        "\n",
        "model.add(Convolution2D(16, 3, 3, kernel_regularizer= regularizers.l2(0.0001)))#3\n",
        "model.add(BatchNormalization())\n",
        "model.add(Activation('relu'))\n",
        "model.add(Dropout(0.1))\n",
        "\n",
        "\n",
        "model.add(Convolution2D(10, 4, 4))\n",
        "model.add(BatchNormalization())\n",
        "model.add(Activation('relu'))\n",
        "model.add(Dropout(0.1))\n",
        "\n",
        "\n",
        "model.add(Flatten())\n",
        "model.add(Activation('softmax'))\n",
        "\n",
        "\n",
        "model.summary()"
      ],
      "execution_count": 47,
      "outputs": [
        {
          "output_type": "stream",
          "text": [
            "/usr/local/lib/python3.6/dist-packages/ipykernel_launcher.py:6: UserWarning: Update your `Conv2D` call to the Keras 2 API: `Conv2D(16, (3, 3), kernel_regularizer=<keras.reg..., input_shape=(28, 28, 1...)`\n",
            "  \n",
            "/usr/local/lib/python3.6/dist-packages/ipykernel_launcher.py:11: UserWarning: Update your `Conv2D` call to the Keras 2 API: `Conv2D(32, (3, 3), kernel_regularizer=<keras.reg...)`\n",
            "  # This is added back by InteractiveShellApp.init_path()\n",
            "/usr/local/lib/python3.6/dist-packages/ipykernel_launcher.py:16: UserWarning: Update your `Conv2D` call to the Keras 2 API: `Conv2D(10, (1, 1), activation=\"relu\", kernel_regularizer=<keras.reg...)`\n",
            "  app.launch_new_instance()\n",
            "/usr/local/lib/python3.6/dist-packages/ipykernel_launcher.py:20: UserWarning: Update your `Conv2D` call to the Keras 2 API: `Conv2D(16, (3, 3), kernel_regularizer=<keras.reg...)`\n",
            "/usr/local/lib/python3.6/dist-packages/ipykernel_launcher.py:26: UserWarning: Update your `Conv2D` call to the Keras 2 API: `Conv2D(16, (3, 3), kernel_regularizer=<keras.reg...)`\n",
            "/usr/local/lib/python3.6/dist-packages/ipykernel_launcher.py:32: UserWarning: Update your `Conv2D` call to the Keras 2 API: `Conv2D(16, (3, 3), kernel_regularizer=<keras.reg...)`\n",
            "/usr/local/lib/python3.6/dist-packages/ipykernel_launcher.py:38: UserWarning: Update your `Conv2D` call to the Keras 2 API: `Conv2D(16, (3, 3), kernel_regularizer=<keras.reg...)`\n"
          ],
          "name": "stderr"
        },
        {
          "output_type": "stream",
          "text": [
            "_________________________________________________________________\n",
            "Layer (type)                 Output Shape              Param #   \n",
            "=================================================================\n",
            "conv2d_33 (Conv2D)           (None, 26, 26, 16)        160       \n",
            "_________________________________________________________________\n",
            "batch_normalization_29 (Batc (None, 26, 26, 16)        64        \n",
            "_________________________________________________________________\n",
            "activation_33 (Activation)   (None, 26, 26, 16)        0         \n",
            "_________________________________________________________________\n",
            "dropout_29 (Dropout)         (None, 26, 26, 16)        0         \n",
            "_________________________________________________________________\n",
            "conv2d_34 (Conv2D)           (None, 24, 24, 32)        4640      \n",
            "_________________________________________________________________\n",
            "batch_normalization_30 (Batc (None, 24, 24, 32)        128       \n",
            "_________________________________________________________________\n",
            "activation_34 (Activation)   (None, 24, 24, 32)        0         \n",
            "_________________________________________________________________\n",
            "dropout_30 (Dropout)         (None, 24, 24, 32)        0         \n",
            "_________________________________________________________________\n",
            "conv2d_35 (Conv2D)           (None, 24, 24, 10)        330       \n",
            "_________________________________________________________________\n",
            "max_pooling2d_5 (MaxPooling2 (None, 12, 12, 10)        0         \n",
            "_________________________________________________________________\n",
            "conv2d_36 (Conv2D)           (None, 10, 10, 16)        1456      \n",
            "_________________________________________________________________\n",
            "batch_normalization_31 (Batc (None, 10, 10, 16)        64        \n",
            "_________________________________________________________________\n",
            "activation_35 (Activation)   (None, 10, 10, 16)        0         \n",
            "_________________________________________________________________\n",
            "dropout_31 (Dropout)         (None, 10, 10, 16)        0         \n",
            "_________________________________________________________________\n",
            "conv2d_37 (Conv2D)           (None, 8, 8, 16)          2320      \n",
            "_________________________________________________________________\n",
            "batch_normalization_32 (Batc (None, 8, 8, 16)          64        \n",
            "_________________________________________________________________\n",
            "activation_36 (Activation)   (None, 8, 8, 16)          0         \n",
            "_________________________________________________________________\n",
            "dropout_32 (Dropout)         (None, 8, 8, 16)          0         \n",
            "_________________________________________________________________\n",
            "conv2d_38 (Conv2D)           (None, 6, 6, 16)          2320      \n",
            "_________________________________________________________________\n",
            "batch_normalization_33 (Batc (None, 6, 6, 16)          64        \n",
            "_________________________________________________________________\n",
            "activation_37 (Activation)   (None, 6, 6, 16)          0         \n",
            "_________________________________________________________________\n",
            "dropout_33 (Dropout)         (None, 6, 6, 16)          0         \n",
            "_________________________________________________________________\n",
            "conv2d_39 (Conv2D)           (None, 4, 4, 16)          2320      \n",
            "_________________________________________________________________\n",
            "batch_normalization_34 (Batc (None, 4, 4, 16)          64        \n",
            "_________________________________________________________________\n",
            "activation_38 (Activation)   (None, 4, 4, 16)          0         \n",
            "_________________________________________________________________\n",
            "dropout_34 (Dropout)         (None, 4, 4, 16)          0         \n",
            "_________________________________________________________________\n",
            "conv2d_40 (Conv2D)           (None, 1, 1, 10)          2570      \n",
            "_________________________________________________________________\n",
            "batch_normalization_35 (Batc (None, 1, 1, 10)          40        \n",
            "_________________________________________________________________\n",
            "activation_39 (Activation)   (None, 1, 1, 10)          0         \n",
            "_________________________________________________________________\n",
            "dropout_35 (Dropout)         (None, 1, 1, 10)          0         \n",
            "_________________________________________________________________\n",
            "flatten_5 (Flatten)          (None, 10)                0         \n",
            "_________________________________________________________________\n",
            "activation_40 (Activation)   (None, 10)                0         \n",
            "=================================================================\n",
            "Total params: 16,604\n",
            "Trainable params: 16,360\n",
            "Non-trainable params: 244\n",
            "_________________________________________________________________\n"
          ],
          "name": "stdout"
        },
        {
          "output_type": "stream",
          "text": [
            "/usr/local/lib/python3.6/dist-packages/ipykernel_launcher.py:44: UserWarning: Update your `Conv2D` call to the Keras 2 API: `Conv2D(10, (4, 4))`\n"
          ],
          "name": "stderr"
        }
      ]
    },
    {
      "cell_type": "markdown",
      "metadata": {
        "id": "BZhWFaI3VSp5",
        "colab_type": "text"
      },
      "source": [
        "###Compile the Model and Incorporate Learning Rate. Save the Model with Best Accuracy"
      ]
    },
    {
      "cell_type": "code",
      "metadata": {
        "id": "L2IicGJ4x3Be",
        "colab_type": "code",
        "outputId": "a2c4b61c-e525-43c0-ddac-9e3acd712188",
        "colab": {
          "base_uri": "https://localhost:8080/",
          "height": 2771
        }
      },
      "source": [
        "from keras.optimizers import Adam\n",
        "from keras.callbacks import ModelCheckpoint\n",
        "\n",
        "\n",
        "model.compile(loss='categorical_crossentropy', optimizer=\"adam\", metrics=['accuracy'])\n",
        "# checkpoint for saving model with best accuracy\n",
        "filepath=\"weights.best.hdf5\"\n",
        "checkpoint = ModelCheckpoint(filepath=filepath, monitor='val_acc', verbose=1, save_best_only=True, mode='max')\n",
        "callbacks_list = [checkpoint]\n",
        "\n",
        "model.fit(X_train, Y_train, batch_size=128, epochs=40, verbose=1, validation_data=(X_test, Y_test), callbacks= callbacks_list) #[LearningRateScheduler(scheduler, verbose=1)])"
      ],
      "execution_count": 49,
      "outputs": [
        {
          "output_type": "stream",
          "text": [
            "Train on 60000 samples, validate on 10000 samples\n",
            "Epoch 1/40\n",
            "60000/60000 [==============================] - 17s 276us/step - loss: 0.3642 - acc: 0.8827 - val_loss: 0.0884 - val_acc: 0.9883\n",
            "\n",
            "Epoch 00001: val_acc improved from -inf to 0.98830, saving model to weights.best.hdf5\n",
            "Epoch 2/40\n",
            "60000/60000 [==============================] - 13s 224us/step - loss: 0.3270 - acc: 0.8890 - val_loss: 0.0652 - val_acc: 0.9899\n",
            "\n",
            "Epoch 00002: val_acc improved from 0.98830 to 0.98990, saving model to weights.best.hdf5\n",
            "Epoch 3/40\n",
            "60000/60000 [==============================] - 13s 223us/step - loss: 0.3186 - acc: 0.8887 - val_loss: 0.0632 - val_acc: 0.9903\n",
            "\n",
            "Epoch 00003: val_acc improved from 0.98990 to 0.99030, saving model to weights.best.hdf5\n",
            "Epoch 4/40\n",
            "60000/60000 [==============================] - 13s 222us/step - loss: 0.3137 - acc: 0.8882 - val_loss: 0.0649 - val_acc: 0.9892\n",
            "\n",
            "Epoch 00004: val_acc did not improve from 0.99030\n",
            "Epoch 5/40\n",
            "60000/60000 [==============================] - 13s 223us/step - loss: 0.3038 - acc: 0.8916 - val_loss: 0.0453 - val_acc: 0.9921\n",
            "\n",
            "Epoch 00005: val_acc improved from 0.99030 to 0.99210, saving model to weights.best.hdf5\n",
            "Epoch 6/40\n",
            "60000/60000 [==============================] - 13s 220us/step - loss: 0.2980 - acc: 0.8932 - val_loss: 0.0440 - val_acc: 0.9929\n",
            "\n",
            "Epoch 00006: val_acc improved from 0.99210 to 0.99290, saving model to weights.best.hdf5\n",
            "Epoch 7/40\n",
            "60000/60000 [==============================] - 13s 221us/step - loss: 0.2992 - acc: 0.8933 - val_loss: 0.0490 - val_acc: 0.9912\n",
            "\n",
            "Epoch 00007: val_acc did not improve from 0.99290\n",
            "Epoch 8/40\n",
            "60000/60000 [==============================] - 13s 219us/step - loss: 0.2840 - acc: 0.8971 - val_loss: 0.0457 - val_acc: 0.9920\n",
            "\n",
            "Epoch 00008: val_acc did not improve from 0.99290\n",
            "Epoch 9/40\n",
            "60000/60000 [==============================] - 13s 220us/step - loss: 0.2930 - acc: 0.8935 - val_loss: 0.0432 - val_acc: 0.9924\n",
            "\n",
            "Epoch 00009: val_acc did not improve from 0.99290\n",
            "Epoch 10/40\n",
            "60000/60000 [==============================] - 13s 218us/step - loss: 0.2873 - acc: 0.8963 - val_loss: 0.0425 - val_acc: 0.9923\n",
            "\n",
            "Epoch 00010: val_acc did not improve from 0.99290\n",
            "Epoch 11/40\n",
            "60000/60000 [==============================] - 12s 208us/step - loss: 0.2843 - acc: 0.8975 - val_loss: 0.0412 - val_acc: 0.9938\n",
            "\n",
            "Epoch 00011: val_acc improved from 0.99290 to 0.99380, saving model to weights.best.hdf5\n",
            "Epoch 12/40\n",
            "60000/60000 [==============================] - 13s 216us/step - loss: 0.2826 - acc: 0.8973 - val_loss: 0.0463 - val_acc: 0.9919\n",
            "\n",
            "Epoch 00012: val_acc did not improve from 0.99380\n",
            "Epoch 13/40\n",
            "60000/60000 [==============================] - 13s 219us/step - loss: 0.2856 - acc: 0.8967 - val_loss: 0.0353 - val_acc: 0.9941\n",
            "\n",
            "Epoch 00013: val_acc improved from 0.99380 to 0.99410, saving model to weights.best.hdf5\n",
            "Epoch 14/40\n",
            "60000/60000 [==============================] - 13s 220us/step - loss: 0.2779 - acc: 0.8999 - val_loss: 0.0380 - val_acc: 0.9935\n",
            "\n",
            "Epoch 00014: val_acc did not improve from 0.99410\n",
            "Epoch 15/40\n",
            "60000/60000 [==============================] - 13s 221us/step - loss: 0.2821 - acc: 0.8984 - val_loss: 0.0363 - val_acc: 0.9934\n",
            "\n",
            "Epoch 00015: val_acc did not improve from 0.99410\n",
            "Epoch 16/40\n",
            "60000/60000 [==============================] - 13s 220us/step - loss: 0.2802 - acc: 0.8990 - val_loss: 0.0393 - val_acc: 0.9934\n",
            "\n",
            "Epoch 00016: val_acc did not improve from 0.99410\n",
            "Epoch 17/40\n",
            "60000/60000 [==============================] - 13s 219us/step - loss: 0.2829 - acc: 0.8974 - val_loss: 0.0407 - val_acc: 0.9931\n",
            "\n",
            "Epoch 00017: val_acc did not improve from 0.99410\n",
            "Epoch 18/40\n",
            "60000/60000 [==============================] - 13s 219us/step - loss: 0.2758 - acc: 0.8999 - val_loss: 0.0368 - val_acc: 0.9932\n",
            "\n",
            "Epoch 00018: val_acc did not improve from 0.99410\n",
            "Epoch 19/40\n",
            "60000/60000 [==============================] - 13s 219us/step - loss: 0.2799 - acc: 0.8989 - val_loss: 0.0398 - val_acc: 0.9925\n",
            "\n",
            "Epoch 00019: val_acc did not improve from 0.99410\n",
            "Epoch 20/40\n",
            "60000/60000 [==============================] - 13s 218us/step - loss: 0.2769 - acc: 0.8997 - val_loss: 0.0397 - val_acc: 0.9934\n",
            "\n",
            "Epoch 00020: val_acc did not improve from 0.99410\n",
            "Epoch 21/40\n",
            "60000/60000 [==============================] - 13s 218us/step - loss: 0.2764 - acc: 0.9002 - val_loss: 0.0357 - val_acc: 0.9937\n",
            "\n",
            "Epoch 00021: val_acc did not improve from 0.99410\n",
            "Epoch 22/40\n",
            "60000/60000 [==============================] - 13s 222us/step - loss: 0.2745 - acc: 0.9009 - val_loss: 0.0357 - val_acc: 0.9939\n",
            "\n",
            "Epoch 00022: val_acc did not improve from 0.99410\n",
            "Epoch 23/40\n",
            "60000/60000 [==============================] - 13s 220us/step - loss: 0.2736 - acc: 0.9013 - val_loss: 0.0363 - val_acc: 0.9939\n",
            "\n",
            "Epoch 00023: val_acc did not improve from 0.99410\n",
            "Epoch 24/40\n",
            "60000/60000 [==============================] - 13s 220us/step - loss: 0.2799 - acc: 0.8986 - val_loss: 0.0369 - val_acc: 0.9935\n",
            "\n",
            "Epoch 00024: val_acc did not improve from 0.99410\n",
            "Epoch 25/40\n",
            "60000/60000 [==============================] - 13s 218us/step - loss: 0.2749 - acc: 0.9006 - val_loss: 0.0456 - val_acc: 0.9913\n",
            "\n",
            "Epoch 00025: val_acc did not improve from 0.99410\n",
            "Epoch 26/40\n",
            "60000/60000 [==============================] - 13s 220us/step - loss: 0.2787 - acc: 0.8996 - val_loss: 0.0385 - val_acc: 0.9936\n",
            "\n",
            "Epoch 00026: val_acc did not improve from 0.99410\n",
            "Epoch 27/40\n",
            "60000/60000 [==============================] - 13s 221us/step - loss: 0.2771 - acc: 0.8997 - val_loss: 0.0388 - val_acc: 0.9930\n",
            "\n",
            "Epoch 00027: val_acc did not improve from 0.99410\n",
            "Epoch 28/40\n",
            "60000/60000 [==============================] - 13s 220us/step - loss: 0.2759 - acc: 0.8999 - val_loss: 0.0377 - val_acc: 0.9939\n",
            "\n",
            "Epoch 00028: val_acc did not improve from 0.99410\n",
            "Epoch 29/40\n",
            "60000/60000 [==============================] - 13s 219us/step - loss: 0.2691 - acc: 0.9030 - val_loss: 0.0363 - val_acc: 0.9942\n",
            "\n",
            "Epoch 00029: val_acc improved from 0.99410 to 0.99420, saving model to weights.best.hdf5\n",
            "Epoch 30/40\n",
            "60000/60000 [==============================] - 13s 220us/step - loss: 0.2792 - acc: 0.8997 - val_loss: 0.0421 - val_acc: 0.9928\n",
            "\n",
            "Epoch 00030: val_acc did not improve from 0.99420\n",
            "Epoch 31/40\n",
            "60000/60000 [==============================] - 13s 220us/step - loss: 0.2753 - acc: 0.9008 - val_loss: 0.0434 - val_acc: 0.9920\n",
            "\n",
            "Epoch 00031: val_acc did not improve from 0.99420\n",
            "Epoch 32/40\n",
            "60000/60000 [==============================] - 13s 222us/step - loss: 0.2793 - acc: 0.8995 - val_loss: 0.0354 - val_acc: 0.9947\n",
            "\n",
            "Epoch 00032: val_acc improved from 0.99420 to 0.99470, saving model to weights.best.hdf5\n",
            "Epoch 33/40\n",
            "60000/60000 [==============================] - 13s 218us/step - loss: 0.2722 - acc: 0.9019 - val_loss: 0.0364 - val_acc: 0.9948\n",
            "\n",
            "Epoch 00033: val_acc improved from 0.99470 to 0.99480, saving model to weights.best.hdf5\n",
            "Epoch 34/40\n",
            "60000/60000 [==============================] - 13s 217us/step - loss: 0.2765 - acc: 0.9006 - val_loss: 0.0398 - val_acc: 0.9932\n",
            "\n",
            "Epoch 00034: val_acc did not improve from 0.99480\n",
            "Epoch 35/40\n",
            "60000/60000 [==============================] - 13s 221us/step - loss: 0.2719 - acc: 0.9019 - val_loss: 0.0404 - val_acc: 0.9938\n",
            "\n",
            "Epoch 00035: val_acc did not improve from 0.99480\n",
            "Epoch 36/40\n",
            "60000/60000 [==============================] - 13s 220us/step - loss: 0.2734 - acc: 0.9025 - val_loss: 0.0398 - val_acc: 0.9933\n",
            "\n",
            "Epoch 00036: val_acc did not improve from 0.99480\n",
            "Epoch 37/40\n",
            "60000/60000 [==============================] - 13s 221us/step - loss: 0.2735 - acc: 0.9017 - val_loss: 0.0354 - val_acc: 0.9936\n",
            "\n",
            "Epoch 00037: val_acc did not improve from 0.99480\n",
            "Epoch 38/40\n",
            "60000/60000 [==============================] - 13s 218us/step - loss: 0.2726 - acc: 0.9011 - val_loss: 0.0354 - val_acc: 0.9947\n",
            "\n",
            "Epoch 00038: val_acc did not improve from 0.99480\n",
            "Epoch 39/40\n",
            "60000/60000 [==============================] - 13s 218us/step - loss: 0.2700 - acc: 0.9032 - val_loss: 0.0393 - val_acc: 0.9927\n",
            "\n",
            "Epoch 00039: val_acc did not improve from 0.99480\n",
            "Epoch 40/40\n",
            "60000/60000 [==============================] - 13s 219us/step - loss: 0.2739 - acc: 0.9017 - val_loss: 0.0352 - val_acc: 0.9945\n",
            "\n",
            "Epoch 00040: val_acc did not improve from 0.99480\n"
          ],
          "name": "stdout"
        },
        {
          "output_type": "execute_result",
          "data": {
            "text/plain": [
              "<keras.callbacks.History at 0x7f151e6a3518>"
            ]
          },
          "metadata": {
            "tags": []
          },
          "execution_count": 49
        }
      ]
    },
    {
      "cell_type": "markdown",
      "metadata": {
        "id": "AhzDpg1ohUPi",
        "colab_type": "text"
      },
      "source": [
        "###Save the model with best accuracy achieved in previous line"
      ]
    },
    {
      "cell_type": "code",
      "metadata": {
        "id": "WLxlW9ufyQiO",
        "colab_type": "code",
        "outputId": "e6f87d01-52d6-4291-8903-9dff4b914125",
        "colab": {
          "base_uri": "https://localhost:8080/",
          "height": 34
        }
      },
      "source": [
        "model.load_weights(\"weights.best.hdf5\") # Load weights from the best saved model\n",
        "model.compile(loss='binary_crossentropy', optimizer='adam', metrics=['accuracy']) # Compile model\n",
        "score = model.evaluate(X_test, Y_test, verbose=0)\n",
        "print(score)"
      ],
      "execution_count": 50,
      "outputs": [
        {
          "output_type": "stream",
          "text": [
            "[0.016217265635728836, 0.9988499975204468]\n"
          ],
          "name": "stdout"
        }
      ]
    },
    {
      "cell_type": "markdown",
      "metadata": {
        "id": "6q008kWKhbvC",
        "colab_type": "text"
      },
      "source": [
        "### Image Gallery of False predictions"
      ]
    },
    {
      "cell_type": "code",
      "metadata": {
        "id": "m2qDl21ozBnW",
        "colab_type": "code",
        "outputId": "2eac5896-60d3-4dfb-ba64-0f964dbdb69c",
        "colab": {
          "base_uri": "https://localhost:8080/",
          "height": 460
        }
      },
      "source": [
        "import matplotlib.cm as cm\n",
        "\n",
        "def one_hot_to_dense(labels_one_hot):\n",
        "    return np.argmax(labels_one_hot,1)\n",
        "  \n",
        "y_valid_pred = model.predict(X_test, verbose=0)\n",
        "y_valid_pred_label = one_hot_to_dense(y_valid_pred)\n",
        "y_valid_label = one_hot_to_dense(Y_test)\n",
        "y_val_false_index = []\n",
        "\n",
        "for i in range(y_valid_label.shape[0]):\n",
        "    if y_valid_pred_label[i] != y_valid_label[i]:\n",
        "        y_val_false_index.append(i)\n",
        "\n",
        "print('# false predictions: ', len(y_val_false_index),'out of', len(Y_test))\n",
        "# Building Image Gallery of the 50 Predicted classes\n",
        "plt.figure(figsize=(10,15))\n",
        "for j in range(0,5):\n",
        "    for i in range(0,10):\n",
        "        if j*10+i<len(y_val_false_index):\n",
        "            plt.subplot(10,10,j*10+i+1)\n",
        "            plt.title('%d/%d'%(y_valid_label[y_val_false_index[j*10+i]],\n",
        "                               y_valid_pred_label[y_val_false_index[j*10+i]]))\n",
        "            plt.imshow(X_test[y_val_false_index[j*10+i]].reshape(28,28),cmap=cm.binary)    "
      ],
      "execution_count": 51,
      "outputs": [
        {
          "output_type": "stream",
          "text": [
            "# false predictions:  52 out of 10000\n"
          ],
          "name": "stdout"
        },
        {
          "output_type": "display_data",
          "data": {
            "image/png": "[encoded data removed]",
            "text/plain": [
              "<Figure size 720x1080 with 50 Axes>"
            ]
          },
          "metadata": {
            "tags": []
          }
        }
      ]
    },
    {
      "cell_type": "markdown",
      "metadata": {
        "id": "DA4v9kMbYF6Y",
        "colab_type": "text"
      },
      "source": [
        "### My Network could only get 22 Misclassified Images from the Validation Dataset"
      ]
    }
  ]
}